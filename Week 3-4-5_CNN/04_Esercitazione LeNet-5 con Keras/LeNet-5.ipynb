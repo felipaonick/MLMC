{
 "cells": [
  {
   "cell_type": "code",
   "execution_count": 2,
   "metadata": {
    "id": "YODaFi15IvPP"
   },
   "outputs": [],
   "source": [
    "import matplotlib.pyplot as plt\n",
    "import numpy as np\n",
    "\n",
    "from tensorflow.keras.datasets import mnist\n",
    "from tensorflow.keras.utils import to_categorical\n",
    "from tensorflow.keras.models import Sequential\n",
    "from tensorflow.keras import layers\n",
    "import tensorflow.keras\n"
   ]
  },
  {
   "cell_type": "code",
   "execution_count": 3,
   "metadata": {
    "colab": {
     "base_uri": "https://localhost:8080/"
    },
    "executionInfo": {
     "elapsed": 926,
     "status": "ok",
     "timestamp": 1632828097460,
     "user": {
      "displayName": "Giuseppe Mastrandrea",
      "photoUrl": "https://lh3.googleusercontent.com/a-/AOh14GjYvnejZP-OkYuCiYaLlQORseFbTZpVvgQgU3MY=s64",
      "userId": "17357291891173938630"
     },
     "user_tz": -120
    },
    "id": "MXGiqsYXI051",
    "outputId": "c8f43de8-2c59-4699-ebed-d91e957a4129"
   },
   "outputs": [
    {
     "name": "stdout",
     "output_type": "stream",
     "text": [
      "(60000, 28, 28, 1)\n"
     ]
    }
   ],
   "source": [
    "(x_train, y_train), (x_test, y_test) = mnist.load_data()\n",
    "\n",
    "# conversione in float32 da int8 del dataset originale\n",
    "x_train = x_train.astype('float32')\n",
    "x_test = x_test.astype('float32')\n",
    "\n",
    "# normalizzazione nell'intervallo [0, 1]\n",
    "x_train /= 255\n",
    "x_test /= 255\n",
    "\n",
    "# one-hot encoding delle label\n",
    "y_train = to_categorical(y_train, 10)\n",
    "y_test = to_categorical(y_test, 10)\n",
    "\n",
    "# Reshape del dataset (era un array monodimensionale)\n",
    "x_train = x_train.reshape(x_train.shape[0], 28,28,1)\n",
    "x_test = x_test.reshape(x_test.shape[0], 28,28,1)\n",
    "\n",
    "print(x_train.shape)"
   ]
  },
  {
   "cell_type": "code",
   "execution_count": 4,
   "metadata": {
    "colab": {
     "base_uri": "https://localhost:8080/"
    },
    "executionInfo": {
     "elapsed": 592,
     "status": "ok",
     "timestamp": 1632828208563,
     "user": {
      "displayName": "Giuseppe Mastrandrea",
      "photoUrl": "https://lh3.googleusercontent.com/a-/AOh14GjYvnejZP-OkYuCiYaLlQORseFbTZpVvgQgU3MY=s64",
      "userId": "17357291891173938630"
     },
     "user_tz": -120
    },
    "id": "_TfuXThBI3to",
    "outputId": "97a8657b-4090-47eb-c48e-06d669b9c4d9"
   },
   "outputs": [
    {
     "name": "stdout",
     "output_type": "stream",
     "text": [
      "Model: \"sequential\"\n",
      "_________________________________________________________________\n",
      "Layer (type)                 Output Shape              Param #   \n",
      "=================================================================\n",
      "conv2d (Conv2D)              (None, 28, 28, 6)         156       \n",
      "_________________________________________________________________\n",
      "average_pooling2d (AveragePo (None, 27, 27, 6)         0         \n",
      "_________________________________________________________________\n",
      "conv2d_1 (Conv2D)            (None, 23, 23, 16)        2416      \n",
      "_________________________________________________________________\n",
      "average_pooling2d_1 (Average (None, 11, 11, 16)        0         \n",
      "_________________________________________________________________\n",
      "conv2d_2 (Conv2D)            (None, 7, 7, 120)         48120     \n",
      "_________________________________________________________________\n",
      "flatten (Flatten)            (None, 5880)              0         \n",
      "_________________________________________________________________\n",
      "dense (Dense)                (None, 84)                494004    \n",
      "_________________________________________________________________\n",
      "dense_1 (Dense)              (None, 10)                850       \n",
      "=================================================================\n",
      "Total params: 545,546\n",
      "Trainable params: 545,546\n",
      "Non-trainable params: 0\n",
      "_________________________________________________________________\n"
     ]
    }
   ],
   "source": [
    "model = Sequential()\n",
    "\n",
    "# C1 Convolutional Layer\n",
    "model.add(\n",
    "    layers.Conv2D(\n",
    "        6, \n",
    "        kernel_size=(5, 5), \n",
    "        strides=(1, 1), \n",
    "        activation='tanh', \n",
    "        input_shape=(28,28,1), \n",
    "        padding='same'\n",
    "      )\n",
    "  )\n",
    "\n",
    "# S2 Pooling Layer\n",
    "model.add(\n",
    "    layers.AveragePooling2D(\n",
    "        pool_size=(2, 2), \n",
    "        strides=(1, 1), \n",
    "        padding='valid'\n",
    "        )\n",
    "    )\n",
    "\n",
    "# C3 Convolutional Layer\n",
    "model.add(\n",
    "    layers.Conv2D(\n",
    "        16, \n",
    "        kernel_size=(5, 5), \n",
    "        strides=(1, 1), \n",
    "        activation='tanh', \n",
    "        padding='valid'\n",
    "        )\n",
    "    )\n",
    "\n",
    "# S4 Pooling Layer\n",
    "model.add(\n",
    "    layers.AveragePooling2D(\n",
    "        pool_size=(2, 2), \n",
    "        strides=(2, 2), \n",
    "        padding='valid'\n",
    "        )\n",
    "    )\n",
    "\n",
    "# C5 Convolutional Layer\n",
    "model.add(\n",
    "    layers.Conv2D(\n",
    "        120, \n",
    "        kernel_size=(5, 5), \n",
    "        strides=(1, 1), \n",
    "        activation='tanh', \n",
    "        padding='valid')\n",
    "    )\n",
    "\n",
    "# Appiattimento dei dati dei layer convolutivi per poterli usare nei seguenti layer pienamente connessi\n",
    "model.add(layers.Flatten())\n",
    "\n",
    "# FC6 Fully Connected Layer\n",
    "model.add(layers.Dense(84, activation='tanh'))\n",
    "\n",
    "# Output Layer con attivazione di tipo softmax \n",
    "model.add(layers.Dense(10, activation='softmax'))\n",
    "\n",
    "# Compile the model\n",
    "model.compile(\n",
    "    loss='categorical_crossentropy', \n",
    "    optimizer='SGD', \n",
    "    metrics=['accuracy']\n",
    "    )\n",
    "\n",
    "model.summary()"
   ]
  },
  {
   "cell_type": "code",
   "execution_count": 5,
   "metadata": {
    "colab": {
     "base_uri": "https://localhost:8080/"
    },
    "executionInfo": {
     "elapsed": 863075,
     "status": "ok",
     "timestamp": 1632829086679,
     "user": {
      "displayName": "Giuseppe Mastrandrea",
      "photoUrl": "https://lh3.googleusercontent.com/a-/AOh14GjYvnejZP-OkYuCiYaLlQORseFbTZpVvgQgU3MY=s64",
      "userId": "17357291891173938630"
     },
     "user_tz": -120
    },
    "id": "vg8_amdYJTGg",
    "outputId": "0186bd43-c7b2-4a72-a9f3-ec020e967b32"
   },
   "outputs": [
    {
     "name": "stdout",
     "output_type": "stream",
     "text": [
      "Epoch 1/10\n",
      "469/469 - 5s - loss: 0.7134 - accuracy: 0.8116 - val_loss: 0.3447 - val_accuracy: 0.9046\n",
      "Epoch 2/10\n",
      "469/469 - 2s - loss: 0.3144 - accuracy: 0.9111 - val_loss: 0.2614 - val_accuracy: 0.9267\n",
      "Epoch 3/10\n",
      "469/469 - 2s - loss: 0.2536 - accuracy: 0.9275 - val_loss: 0.2199 - val_accuracy: 0.9391\n",
      "Epoch 4/10\n",
      "469/469 - 2s - loss: 0.2170 - accuracy: 0.9377 - val_loss: 0.1921 - val_accuracy: 0.9465\n",
      "Epoch 5/10\n",
      "469/469 - 2s - loss: 0.1902 - accuracy: 0.9454 - val_loss: 0.1702 - val_accuracy: 0.9532\n",
      "Epoch 6/10\n",
      "469/469 - 2s - loss: 0.1697 - accuracy: 0.9515 - val_loss: 0.1523 - val_accuracy: 0.9575\n",
      "Epoch 7/10\n",
      "469/469 - 2s - loss: 0.1527 - accuracy: 0.9570 - val_loss: 0.1387 - val_accuracy: 0.9611\n",
      "Epoch 8/10\n",
      "469/469 - 2s - loss: 0.1383 - accuracy: 0.9611 - val_loss: 0.1279 - val_accuracy: 0.9647\n",
      "Epoch 9/10\n",
      "469/469 - 2s - loss: 0.1264 - accuracy: 0.9646 - val_loss: 0.1174 - val_accuracy: 0.9680\n",
      "Epoch 10/10\n",
      "469/469 - 2s - loss: 0.1164 - accuracy: 0.9672 - val_loss: 0.1087 - val_accuracy: 0.9698\n"
     ]
    }
   ],
   "source": [
    "hist = model.fit(x=x_train,y=y_train, epochs=10, batch_size=128, validation_data=(x_test, y_test), verbose=2)"
   ]
  },
  {
   "cell_type": "code",
   "execution_count": 6,
   "metadata": {
    "colab": {
     "base_uri": "https://localhost:8080/"
    },
    "executionInfo": {
     "elapsed": 6762,
     "status": "ok",
     "timestamp": 1632829171404,
     "user": {
      "displayName": "Giuseppe Mastrandrea",
      "photoUrl": "https://lh3.googleusercontent.com/a-/AOh14GjYvnejZP-OkYuCiYaLlQORseFbTZpVvgQgU3MY=s64",
      "userId": "17357291891173938630"
     },
     "user_tz": -120
    },
    "id": "uzT8l-PiJW8m",
    "outputId": "223a8c9e-814e-4eea-c486-a5fc09716a17"
   },
   "outputs": [
    {
     "name": "stdout",
     "output_type": "stream",
     "text": [
      "313/313 [==============================] - 1s 3ms/step - loss: 0.1087 - accuracy: 0.9698\n",
      "Test loss 0.1087, accuracy 96.98%\n"
     ]
    }
   ],
   "source": [
    "test_score = model.evaluate(x_test, y_test)\n",
    "print('Test loss {:.4f}, accuracy {:.2f}%'.format(test_score[0], test_score[1] * 100))"
   ]
  },
  {
   "cell_type": "code",
   "execution_count": 7,
   "metadata": {
    "colab": {
     "base_uri": "https://localhost:8080/",
     "height": 590
    },
    "executionInfo": {
     "elapsed": 837,
     "status": "ok",
     "timestamp": 1632829714419,
     "user": {
      "displayName": "Giuseppe Mastrandrea",
      "photoUrl": "https://lh3.googleusercontent.com/a-/AOh14GjYvnejZP-OkYuCiYaLlQORseFbTZpVvgQgU3MY=s64",
      "userId": "17357291891173938630"
     },
     "user_tz": -120
    },
    "id": "wtozHcATM8ry",
    "outputId": "8a32ebe3-e600-41a5-b4a7-14e3980be139"
   },
   "outputs": [
    {
     "data": {
      "text/plain": [
       "Text(0, 0.5, 'loss')"
      ]
     },
     "execution_count": 7,
     "metadata": {},
     "output_type": "execute_result"
    },
    {
     "data": {
      "image/png": "[encoded data removed]",
      "text/plain": [
       "<Figure size 432x288 with 1 Axes>"
      ]
     },
     "metadata": {
      "needs_background": "light"
     },
     "output_type": "display_data"
    },
    {
     "data": {
      "image/png": "[encoded data removed]",
      "text/plain": [
       "<Figure size 432x288 with 1 Axes>"
      ]
     },
     "metadata": {
      "needs_background": "light"
     },
     "output_type": "display_data"
    }
   ],
   "source": [
    "f, ax = plt.subplots()\n",
    "ax.plot([None] + hist.history['accuracy'], 'o-')\n",
    "ax.plot([None] + hist.history['val_accuracy'], 'x-')\n",
    "\n",
    "# disegno della legenda nella migliore posizione automaticamente: loc = 0.\n",
    "ax.legend(['Train acc', 'Validation acc'], loc = 0)\n",
    "ax.set_title('Training/Validation acc per Epoch')\n",
    "ax.set_xlabel('Epoch')\n",
    "ax.set_ylabel('acc')\n",
    "\n",
    "f2, ax2 = plt.subplots()\n",
    "ax2.plot([None] + hist.history['loss'])\n",
    "ax2.plot([None] + hist.history['val_loss'])\n",
    "ax2.legend(['Train loss', 'Validation loss'], loc = 0)\n",
    "ax2.set_title('Training/Validation loss per Epoch')\n",
    "ax2.set_xlabel('Epoch')\n",
    "ax2.set_ylabel('loss')"
   ]
  },
  {
   "cell_type": "code",
   "execution_count": 14,
   "metadata": {
    "colab": {
     "base_uri": "https://localhost:8080/"
    },
    "executionInfo": {
     "elapsed": 559,
     "status": "ok",
     "timestamp": 1632831416064,
     "user": {
      "displayName": "Giuseppe Mastrandrea",
      "photoUrl": "https://lh3.googleusercontent.com/a-/AOh14GjYvnejZP-OkYuCiYaLlQORseFbTZpVvgQgU3MY=s64",
      "userId": "17357291891173938630"
     },
     "user_tz": -120
    },
    "id": "Ac5aWba7PVVO",
    "outputId": "359d2266-b193-4f30-ddce-a4d85ea38e28"
   },
   "outputs": [
    {
     "name": "stdout",
     "output_type": "stream",
     "text": [
      "Risultati: 4772 correttamente identificate su 4970 (96.02%)\n"
     ]
    }
   ],
   "source": [
    "start, end = 30, 5000\n",
    "\n",
    "prediction = model.predict(x_test[start:end])\n",
    "\n",
    "length = end-start\n",
    "success = 0\n",
    "\n",
    "\n",
    "classes = np.argmax(prediction, axis=1)\n",
    "\n",
    "\n",
    "for i in range(0, len(classes)):\n",
    "  # print(\"prediction -> \", classes[i])\n",
    "  # print(\"label      -> \", np.argmax(y_test[i+start]))\n",
    "  # print(\"\\n\")\n",
    "  if classes[i] == np.argmax(y_test[i+start]):\n",
    "    success +=1\n",
    "\n",
    "print(\"Risultati: {} correttamente identificate su {} ({:.2f}%)\".format(\n",
    "    success,\n",
    "    length,\n",
    "    success/length*100\n",
    "    )\n",
    ")"
   ]
  },
  {
   "cell_type": "code",
   "execution_count": null,
   "metadata": {
    "id": "p60Z3FBLS2r5"
   },
   "outputs": [],
   "source": []
  }
 ],
 "metadata": {
  "colab": {
   "authorship_tag": "ABX9TyO4LwESAhCea4EOfJ+cD325",
   "name": "LeNet-5.ipynb",
   "provenance": []
  },
  "kernelspec": {
   "display_name": "Python 3",
   "language": "python",
   "name": "python3"
  },
  "language_info": {
   "codemirror_mode": {
    "name": "ipython",
    "version": 3
   },
   "file_extension": ".py",
   "mimetype": "text/x-python",
   "name": "python",
   "nbconvert_exporter": "python",
   "pygments_lexer": "ipython3",
   "version": "3.8.8"
  }
 },
 "nbformat": 4,
 "nbformat_minor": 1
}
