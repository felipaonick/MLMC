{
 "cells": [
  {
   "cell_type": "code",
   "execution_count": 2,
   "metadata": {
    "id": "Cp_qE4e7t4ML"
   },
   "outputs": [],
   "source": [
    "import pandas as pd # data processing, CSV I/O\n",
    "from sklearn.preprocessing import LabelEncoder\n",
    "\n",
    "# import librerie per le reti neurali\n",
    "from tensorflow.keras.models import Sequential\n",
    "from tensorflow.keras.layers import Dense, Activation\n",
    "from tensorflow.keras.layers import Embedding\n",
    "from tensorflow.keras.layers import Conv1D, GlobalMaxPooling1D\n",
    "from tensorflow.keras.preprocessing.text import Tokenizer\n",
    "from tensorflow.keras.preprocessing import sequence\n",
    "\n",
    "from matplotlib import pyplot as plt\n",
    "\n",
    "from numpy.random import seed\n",
    "seed(42)\n",
    "\n",
    "import tensorflow\n",
    "tensorflow.random.set_seed(42)\n"
   ]
  },
  {
   "cell_type": "code",
   "execution_count": 31,
   "metadata": {
    "colab": {
     "base_uri": "https://localhost:8080/"
    },
    "id": "_SAHQ93-1uOq",
    "outputId": "e3a6d5ed-9950-488d-f384-afc771250bd2"
   },
   "outputs": [
    {
     "name": "stdout",
     "output_type": "stream",
     "text": [
      "     v1                                                 v2 Unnamed: 2  \\\n",
      "0   ham  Go until jurong point, crazy.. Available only ...        NaN   \n",
      "1   ham                      Ok lar... Joking wif u oni...        NaN   \n",
      "2  spam  Free entry in 2 a wkly comp to win FA Cup fina...        NaN   \n",
      "3   ham  U dun say so early hor... U c already then say...        NaN   \n",
      "4   ham  Nah I don't think he goes to usf, he lives aro...        NaN   \n",
      "\n",
      "  Unnamed: 3 Unnamed: 4  \n",
      "0        NaN        NaN  \n",
      "1        NaN        NaN  \n",
      "2        NaN        NaN  \n",
      "3        NaN        NaN  \n",
      "4        NaN        NaN  \n",
      "---------\n",
      "0     ham\n",
      "1     ham\n",
      "2    spam\n",
      "Name: v1, dtype: object\n",
      "0    Go until jurong point, crazy.. Available only ...\n",
      "1                        Ok lar... Joking wif u oni...\n",
      "2    Free entry in 2 a wkly comp to win FA Cup fina...\n",
      "Name: v2, dtype: object\n"
     ]
    }
   ],
   "source": [
    "DATA_FILE = 'spam.csv'\n",
    "df = pd.read_csv(DATA_FILE,encoding='latin-1')\n",
    "print(df.head())\n",
    "print('---------')\n",
    "\n",
    "tags = df.v1\n",
    "texts = df.v2\n",
    "\n",
    "print(tags[:3])\n",
    "print(texts[:3])\n"
   ]
  },
  {
   "cell_type": "code",
   "execution_count": 29,
   "metadata": {
    "colab": {
     "base_uri": "https://localhost:8080/"
    },
    "id": "nyW6o2FmDgvf",
    "outputId": "74034da0-775a-4541-d3b2-243270262a02"
   },
   "outputs": [
    {
     "name": "stdout",
     "output_type": "stream",
     "text": [
      "['HELLO MY WORLD', 'MY WORLD', 'AHAHHA WORLD', 'AHAHHA AHAHHA'] \n",
      "\n",
      "word_index         ->  {'world': 1, 'ahahha': 2, 'my': 3, 'hello': 4} \n",
      "\n",
      "document_count     ->  4 \n",
      "\n",
      "word_docs          ->  defaultdict(<class 'int'>, {'hello': 1, 'my': 2, 'world': 3, 'ahahha': 2}) \n",
      "\n",
      "word_counts        ->  OrderedDict([('hello', 1), ('my', 2), ('world', 3), ('ahahha', 3)]) \n",
      "\n",
      "[[0. 1. 0. 1. 1.]\n",
      " [0. 1. 0. 1. 0.]\n",
      " [0. 1. 1. 0. 0.]\n",
      " [0. 0. 2. 0. 0.]]\n",
      "\n",
      "\n",
      "\n",
      "\n",
      "texts_to_sequences  ->  [[4, 3, 1], [3, 1], [2, 1], [2, 2]]\n",
      "after pad_sequences -> [[0 0 4 3 1]\n",
      " [0 0 0 3 1]\n",
      " [0 0 0 2 1]\n",
      " [0 0 0 2 2]]\n"
     ]
    }
   ],
   "source": [
    "'''\n",
    "Tokenizer consente di vettorializzare un corpus di testo, trasformando i testi\n",
    "in una sequenza di numeri interi (ogni numero intero è l'indice di un token in\n",
    "un dizionario) o in un vettore in cui il coefficiente potrebbe essere binario,\n",
    "basato sul conteggio delle parole, ecc...\n",
    "# Argomenti\n",
    "num_words:  il numero massimo di parole da conservare, in base\n",
    "            alla frequenza delle parole stesse.\n",
    "filters:    una stringa in cui ogni elemento è un carattere che sarà\n",
    "            filtrato dai testi. L'impostazione predefinita è tutta la punteggiatura,\n",
    "            oltre a interruzioni di riga e caratteri speciali.\n",
    "lower:      booleano. Se convertire i testi in minuscolo.\n",
    "split:      carattere o stringa da utilizzare per la divisione del token.\n",
    "char_level: se True, ogni carattere sarà trattato come un token.\n",
    "oov_token:  se presente, verrà aggiunto a word_index e utilizzato per\n",
    "            sostituire le parole fuori dal vocabolario durante le chiamate\n",
    "            text_to_sequence\n",
    "\n",
    "Per impostazione predefinita, tutta la punteggiatura viene rimossa, trasformando i testi in\n",
    "sequenze di parole separate dallo spazio.\n",
    "Queste sequenze sono quindi divise in elenchi di token che verranno indicizzati o vettorializzati.\n",
    "\n",
    "\"0\" è un indice riservato che non verrà assegnato a nessuna parola.\n",
    "'''\n",
    "\n",
    "# Esempio di utilizzo di tokenizer su un set ristretto di documenti (scopi didattici)\n",
    "example_num_max = 5 # -> dimensione del vocabolario di parole che vogliamo \"tracciare\"\n",
    "example_tok = Tokenizer(num_words=example_num_max)\n",
    "example_texts = [\n",
    "    \"HELLO MY WORLD\",\n",
    "    \"MY WORLD\",\n",
    "    \"AHAHHA WORLD\",\n",
    "    \"AHAHHA AHAHHA\"\n",
    "] # Set di documenti su cui effettuare la tokenizzazione. Ogni elemento della lista rappresenta un documento\n",
    "\n",
    "example_tok.fit_on_texts(example_texts)\n",
    "\n",
    "print(example_texts, \"\\n\")\n",
    "print(\"word_index         -> \", example_tok.word_index, \"\\n\") # dizionario in cui ogni parola è associata ad un id intero\n",
    "print(\"document_count     -> \", example_tok.document_count, \"\\n\") # numero di frasi (o documenti, nel nostro caso quante mail abbiamo nel dataset) usate per generare il dizionario\n",
    "print(\"word_docs          -> \", example_tok.word_docs, \"\\n\") # dizionario con il numero di documenti in cui appare la singola parola\n",
    "print(\"word_counts        -> \", example_tok.word_counts, \"\\n\") # dizionario con parole e numero di occorrenze delle parole\n",
    "\n",
    "example_mat_texts = example_tok.texts_to_matrix(example_texts,mode='count') # matrice di occorrenze delle parole nei document\n",
    "# altre modalità di tokenizzazione in matrice sono \"binary\", \"freq\", \"tfidf\"\n",
    "\n",
    "print(example_mat_texts)\n",
    "print(\"\\n\\n\\n\")\n",
    "\n",
    "example_sequences = example_tok.texts_to_sequences(example_texts) # per il preprocessing nella CNN -> texts_to_sequences\n",
    "\n",
    "print(\"texts_to_sequences  -> \", example_sequences)\n",
    "print(\"after pad_sequences ->\", sequence.pad_sequences(example_sequences,maxlen=example_num_max))\n",
    "\n",
    "# example_sequences è una lista che contiene tante liste quante sono i testi\n",
    "# ogni elemento di questa lista contiene non più le parole sottoforma di stringa, ma gli id presenti nel dizionario\n",
    "# grazie a pad_sequences rendiamo tutti i testi della stessa lunghezza\n"
   ]
  },
  {
   "cell_type": "code",
   "execution_count": 6,
   "metadata": {
    "colab": {
     "base_uri": "https://localhost:8080/"
    },
    "id": "WLFnaE1FDrrW",
    "outputId": "04a91814-e24d-4643-817b-75e00d5d806f"
   },
   "outputs": [
    {
     "name": "stdout",
     "output_type": "stream",
     "text": [
      "[0 0 1 0 0]\n",
      "---------\n",
      "[[0. 0. 0. ... 0. 0. 0.]\n",
      " [0. 0. 0. ... 0. 0. 0.]\n",
      " [0. 0. 3. ... 0. 0. 0.]\n",
      " [0. 0. 0. ... 0. 0. 0.]\n",
      " [0. 1. 1. ... 0. 0. 0.]]\n",
      "---------\n",
      "(5572,) (5572, 1000)\n"
     ]
    }
   ],
   "source": [
    "# preprocessing del dataset. Facciamo le stesse operazioni di prima ma sul vero dataset\n",
    "num_max = 1000 # numero di parole diverse considerate dal modello\n",
    "le = LabelEncoder() # codifica tag (classi) diverse in \"indici numerici\"\n",
    "tags = le.fit_transform(tags)\n",
    "\n",
    "tok = Tokenizer(num_words=num_max)\n",
    "\n",
    "# Creazione di un vocabolario di indici per rappresentare\n",
    "# le parole dei testi passati in input\n",
    "# Il vocabolario è ordinato dalla parola più frequente\n",
    "# a quella meno frequente\n",
    "\n",
    "tok.fit_on_texts(texts)\n",
    "\n",
    " \n",
    "# Creazione di una matrice dai testi originali\n",
    "# Ogni riga è un vettore di dimensione = al vocabolario\n",
    "# I testi iniziali vengono convertiti utilizzando il\n",
    "# vocabolario creato al passo precedente\n",
    "# Le parole sostituite con il valore 0 sono quelle meno frequenti\n",
    "# mat_texts = tok.texts_to_matrix(texts,mode='count')\n",
    "mat_texts = tok.texts_to_matrix(texts,mode='count')\n",
    "\n",
    "print(tags[:5])\n",
    "print('---------')\n",
    "print(mat_texts[:5])\n",
    "print('---------')\n",
    "print(tags.shape, mat_texts.shape)"
   ]
  },
  {
   "cell_type": "code",
   "execution_count": 10,
   "metadata": {
    "colab": {
     "base_uri": "https://localhost:8080/"
    },
    "id": "WeH69i8pD3Ex",
    "outputId": "5c000477-ecd5-4630-8d1b-4e76d0784218"
   },
   "outputs": [
    {
     "name": "stdout",
     "output_type": "stream",
     "text": [
      "Model: \"sequential_2\"\n",
      "_________________________________________________________________\n",
      "Layer (type)                 Output Shape              Param #   \n",
      "=================================================================\n",
      "dense_4 (Dense)              (None, 256)               256256    \n",
      "_________________________________________________________________\n",
      "dense_5 (Dense)              (None, 256)               65792     \n",
      "_________________________________________________________________\n",
      "dense_6 (Dense)              (None, 1)                 257       \n",
      "=================================================================\n",
      "Total params: 322,305\n",
      "Trainable params: 322,305\n",
      "Non-trainable params: 0\n",
      "_________________________________________________________________\n",
      "- modello compilato -\n",
      "Epoch 1/10\n",
      "140/140 - 2s - loss: 0.1582 - acc: 0.9497 - val_loss: 0.0634 - val_acc: 0.9865\n",
      "Epoch 2/10\n",
      "140/140 - 0s - loss: 0.0288 - acc: 0.9919 - val_loss: 0.0745 - val_acc: 0.9848\n",
      "Epoch 3/10\n",
      "140/140 - 0s - loss: 0.0083 - acc: 0.9973 - val_loss: 0.0753 - val_acc: 0.9874\n",
      "Epoch 4/10\n",
      "140/140 - 0s - loss: 0.0042 - acc: 0.9987 - val_loss: 0.0868 - val_acc: 0.9865\n",
      "Epoch 5/10\n",
      "140/140 - 0s - loss: 0.0025 - acc: 0.9993 - val_loss: 0.0927 - val_acc: 0.9865\n",
      "Epoch 6/10\n",
      "140/140 - 0s - loss: 0.0018 - acc: 0.9998 - val_loss: 0.1006 - val_acc: 0.9874\n",
      "Epoch 7/10\n",
      "140/140 - 0s - loss: 0.0016 - acc: 0.9998 - val_loss: 0.1085 - val_acc: 0.9874\n",
      "Epoch 8/10\n",
      "140/140 - 0s - loss: 0.0015 - acc: 0.9998 - val_loss: 0.1138 - val_acc: 0.9874\n",
      "Epoch 9/10\n",
      "140/140 - 0s - loss: 0.0015 - acc: 0.9998 - val_loss: 0.1122 - val_acc: 0.9857\n",
      "Epoch 10/10\n",
      "140/140 - 0s - loss: 0.0014 - acc: 0.9998 - val_loss: 0.1178 - val_acc: 0.9865\n"
     ]
    }
   ],
   "source": [
    "# rete neurale \"dense\" come primo modello\n",
    "def get_simple_model():\n",
    "    model = Sequential()\n",
    "    model.add(Dense(256, activation='relu', input_shape=(num_max,)))\n",
    "    model.add(Dense(256, activation='relu'))\n",
    "    model.add(Dense(1, activation='sigmoid'))\n",
    "    model.summary()\n",
    "    model.compile(loss='binary_crossentropy',\n",
    "              optimizer='adam',\n",
    "              metrics=['acc'])\n",
    "    print('- modello compilato -')\n",
    "    return model\n",
    "\n",
    "def check_model(model,x,y):\n",
    "    return model.fit(x,y,batch_size=32,epochs=10,verbose=2,validation_split=0.2)\n",
    "\n",
    "m = get_simple_model()\n",
    "dense = check_model(m,mat_texts,tags)"
   ]
  },
  {
   "cell_type": "code",
   "execution_count": 11,
   "metadata": {
    "colab": {
     "base_uri": "https://localhost:8080/"
    },
    "id": "ETxHj_hKEGif",
    "outputId": "0142bab0-7aea-4bcd-f4ce-6550f87f95b9"
   },
   "outputs": [
    {
     "name": "stdout",
     "output_type": "stream",
     "text": [
      "[50, 469, 841, 751, 657, 64, 8, 89, 121, 349, 147, 67, 58, 144]\n",
      "---------\n",
      "[  0   0   0   0   0   0   0   0   0   0   0   0   0   0   0   0   0   0\n",
      "   0   0   0   0   0   0   0   0   0   0   0   0   0   0   0   0   0   0\n",
      "   0   0   0   0   0   0   0   0   0   0   0   0   0   0   0   0   0   0\n",
      "   0   0   0   0   0   0   0   0   0   0   0   0   0   0   0   0   0   0\n",
      "   0   0   0   0   0   0   0   0   0   0   0   0   0   0  50 469 841 751\n",
      " 657  64   8  89 121 349 147  67  58 144]\n",
      "---------\n",
      "(5572, 100)\n"
     ]
    }
   ],
   "source": [
    "# preprocessing per una CNN\n",
    "\n",
    "max_len = 100\n",
    "# Conversione dei testi di input in sequenze di indici\n",
    "# del vocabolario utilizzato\n",
    "cnn_texts_seq = tok.texts_to_sequences(texts)\n",
    "print(cnn_texts_seq[0])\n",
    "print('---------')\n",
    "\n",
    "# Aggiunta di padding (zeri) per rendere\n",
    "# ogni frase della stessa lunghezza di parole\n",
    "cnn_texts_mat = sequence.pad_sequences(cnn_texts_seq,maxlen=max_len)\n",
    "print(cnn_texts_mat[0])\n",
    "print('---------')\n",
    "print(cnn_texts_mat.shape)"
   ]
  },
  {
   "cell_type": "code",
   "execution_count": 12,
   "metadata": {
    "colab": {
     "base_uri": "https://localhost:8080/"
    },
    "id": "ASDdmCW3EJv3",
    "outputId": "fa6e42fd-0fe7-4ede-fe2f-525bf233a32c"
   },
   "outputs": [
    {
     "name": "stdout",
     "output_type": "stream",
     "text": [
      "Model: \"sequential_3\"\n",
      "_________________________________________________________________\n",
      "Layer (type)                 Output Shape              Param #   \n",
      "=================================================================\n",
      "embedding_2 (Embedding)      (None, 100, 100)          100000    \n",
      "_________________________________________________________________\n",
      "conv1d_2 (Conv1D)            (None, 98, 128)           38528     \n",
      "_________________________________________________________________\n",
      "global_max_pooling1d_2 (Glob (None, 128)               0         \n",
      "_________________________________________________________________\n",
      "dense_7 (Dense)              (None, 256)               33024     \n",
      "_________________________________________________________________\n",
      "activation_4 (Activation)    (None, 256)               0         \n",
      "_________________________________________________________________\n",
      "dense_8 (Dense)              (None, 1)                 257       \n",
      "_________________________________________________________________\n",
      "activation_5 (Activation)    (None, 1)                 0         \n",
      "=================================================================\n",
      "Total params: 171,809\n",
      "Trainable params: 171,809\n",
      "Non-trainable params: 0\n",
      "_________________________________________________________________\n",
      "Epoch 1/10\n",
      "140/140 - 11s - loss: 0.2798 - acc: 0.8959 - val_loss: 0.0511 - val_acc: 0.9812\n",
      "Epoch 2/10\n",
      "140/140 - 1s - loss: 0.0445 - acc: 0.9870 - val_loss: 0.0504 - val_acc: 0.9857\n",
      "Epoch 3/10\n",
      "140/140 - 1s - loss: 0.0177 - acc: 0.9957 - val_loss: 0.0544 - val_acc: 0.9839\n",
      "Epoch 4/10\n",
      "140/140 - 1s - loss: 0.0082 - acc: 0.9984 - val_loss: 0.0635 - val_acc: 0.9848\n",
      "Epoch 5/10\n",
      "140/140 - 1s - loss: 0.0037 - acc: 0.9991 - val_loss: 0.0690 - val_acc: 0.9830\n",
      "Epoch 6/10\n",
      "140/140 - 1s - loss: 0.0028 - acc: 0.9993 - val_loss: 0.0717 - val_acc: 0.9821\n",
      "Epoch 7/10\n",
      "140/140 - 1s - loss: 0.0027 - acc: 0.9993 - val_loss: 0.0748 - val_acc: 0.9821\n",
      "Epoch 8/10\n",
      "140/140 - 1s - loss: 0.0019 - acc: 0.9993 - val_loss: 0.0799 - val_acc: 0.9821\n",
      "Epoch 9/10\n",
      "140/140 - 1s - loss: 0.0021 - acc: 0.9996 - val_loss: 0.0823 - val_acc: 0.9830\n",
      "Epoch 10/10\n",
      "140/140 - 1s - loss: 0.0019 - acc: 0.9996 - val_loss: 0.0844 - val_acc: 0.9812\n"
     ]
    }
   ],
   "source": [
    "# CNN per la classificazione del testo\n",
    "def get_cnn_model():   \n",
    "    model = Sequential()\n",
    "    model.add(Embedding # simile alla PCA\n",
    "                        (1000, # dimensione del vocabolario\n",
    "                        100,    # dimensione dei vettori di embedding in uscita\n",
    "                        input_length=max_len))\n",
    "    model.add(Conv1D(128,\n",
    "                     3,\n",
    "                     padding='valid',\n",
    "                     activation='relu',\n",
    "                     strides=1))\n",
    "    model.add(GlobalMaxPooling1D())\n",
    "    model.add(Dense(256))\n",
    "    model.add(Activation('relu'))\n",
    "    model.add(Dense(1))\n",
    "    model.add(Activation('sigmoid'))\n",
    "    model.summary()\n",
    "    model.compile(loss='binary_crossentropy',\n",
    "                  optimizer='adam',\n",
    "                  metrics=['acc'])\n",
    "    return model\n",
    "\n",
    "m = get_cnn_model()\n",
    "cnn = check_model(m,cnn_texts_mat,tags)"
   ]
  },
  {
   "cell_type": "code",
   "execution_count": 13,
   "metadata": {
    "colab": {
     "base_uri": "https://localhost:8080/",
     "height": 440
    },
    "id": "AJEcXD2FEweB",
    "outputId": "4ae5e011-5cee-4adf-b2e1-a095527f736c"
   },
   "outputs": [
    {
     "data": {
      "image/png": "[encoded data removed]",
      "text/plain": [
       "<Figure size 1440x576 with 1 Axes>"
      ]
     },
     "metadata": {
      "needs_background": "light"
     },
     "output_type": "display_data"
    }
   ],
   "source": [
    "plt.figure(figsize=(20, 8))\n",
    "plt.plot(dense.history['loss'], color='orange', label='Train Dense')\n",
    "plt.plot(dense.history['val_loss'], color='red', label='Test Dense')\n",
    "plt.plot(cnn.history['loss'], color='blue', label='Train CNN')\n",
    "plt.plot(cnn.history['val_loss'], color='violet', label='Test CNN')\n",
    "plt.title('Loss')\n",
    "plt.legend()\n",
    "plt.show()"
   ]
  },
  {
   "cell_type": "code",
   "execution_count": 14,
   "metadata": {
    "colab": {
     "base_uri": "https://localhost:8080/",
     "height": 440
    },
    "id": "1gv8eThvHKTQ",
    "outputId": "50cdc555-7602-43b1-a6d7-164b5894b236"
   },
   "outputs": [
    {
     "data": {
      "image/png": "[encoded data removed]",
      "text/plain": [
       "<Figure size 1440x576 with 1 Axes>"
      ]
     },
     "metadata": {
      "needs_background": "light"
     },
     "output_type": "display_data"
    }
   ],
   "source": [
    "plt.figure(figsize=(20, 8))\n",
    "plt.plot(dense.history['acc'], color='orange', label='Train Dense')\n",
    "plt.plot(dense.history['val_acc'], color='red', label='Test Dense')\n",
    "plt.plot(cnn.history['acc'], color='blue', label='Train CNN')\n",
    "plt.plot(cnn.history['val_acc'], color='violet', label='Test CNN')\n",
    "plt.title('Accuracy')\n",
    "plt.legend()\n",
    "plt.show()"
   ]
  },
  {
   "cell_type": "code",
   "execution_count": null,
   "metadata": {
    "id": "cP91baKTrhoe"
   },
   "outputs": [],
   "source": []
  }
 ],
 "metadata": {
  "colab": {
   "collapsed_sections": [],
   "name": "Detect Spam.ipynb",
   "provenance": []
  },
  "kernelspec": {
   "display_name": "Python 3",
   "language": "python",
   "name": "python3"
  },
  "language_info": {
   "codemirror_mode": {
    "name": "ipython",
    "version": 3
   },
   "file_extension": ".py",
   "mimetype": "text/x-python",
   "name": "python",
   "nbconvert_exporter": "python",
   "pygments_lexer": "ipython3",
   "version": "3.8.8"
  }
 },
 "nbformat": 4,
 "nbformat_minor": 1
}