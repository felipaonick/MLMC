{
 "cells": [
  {
   "cell_type": "markdown",
   "metadata": {
    "id": "Ndup1kmh_PCc"
   },
   "source": [
    "In questo notebook proveremo a creare una semplice Rete Neurale Convolutiva con l'ausilio di Keras. Keras è un modulo di tensorflow che fornisce un'API di alto livello per costruire e addestrare reti neurali.\n",
    "\n",
    "Per prima cosa importiamo il dataset MNIST, integrato in Keras\n",
    "\n",
    "\n"
   ]
  },
  {
   "cell_type": "code",
   "execution_count": 21,
   "metadata": {
    "id": "aqb3U1_q_TN-"
   },
   "outputs": [],
   "source": [
    "import matplotlib.pyplot as plt\n",
    "from tensorflow.keras.datasets import mnist\n"
   ]
  },
  {
   "cell_type": "code",
   "execution_count": 38,
   "metadata": {
    "id": "-O9wAT3__ZHV"
   },
   "outputs": [
    {
     "name": "stdout",
     "output_type": "stream",
     "text": [
      "(60000, 28, 28)\n"
     ]
    }
   ],
   "source": [
    "(X_train, y_train), (X_test, y_test) = mnist.load_data()\n",
    "\n",
    "print(X_train.shape)"
   ]
  },
  {
   "cell_type": "code",
   "execution_count": 39,
   "metadata": {
    "colab": {
     "base_uri": "https://localhost:8080/",
     "height": 282
    },
    "executionInfo": {
     "elapsed": 784,
     "status": "ok",
     "timestamp": 1632826445968,
     "user": {
      "displayName": "Giuseppe Mastrandrea",
      "photoUrl": "https://lh3.googleusercontent.com/a-/AOh14GjYvnejZP-OkYuCiYaLlQORseFbTZpVvgQgU3MY=s64",
      "userId": "17357291891173938630"
     },
     "user_tz": -120
    },
    "id": "AcNdjPYR_agq",
    "outputId": "db5dd3f2-e1d1-49f3-f9f4-8d3fe2d531df"
   },
   "outputs": [
    {
     "name": "stdout",
     "output_type": "stream",
     "text": [
      "(28, 28)\n",
      "5\n"
     ]
    },
    {
     "data": {
      "image/png": "[encoded data removed]",
      "text/plain": [
       "<Figure size 432x288 with 1 Axes>"
      ]
     },
     "metadata": {
      "needs_background": "light"
     },
     "output_type": "display_data"
    }
   ],
   "source": [
    "plt.imshow(X_train[0])\n",
    "print(X_train[0].shape)\n",
    "\n",
    "print(y_train[0])"
   ]
  },
  {
   "cell_type": "markdown",
   "metadata": {
    "id": "p-SIJD2P_glt"
   },
   "source": [
    "Facciamo una considerazione sulla shape del dataset e delle singole immagini. Partiamo da una shape di `(60000, 28, 28)` il che significa che abbiamo 60000 immagini di dimensioni 28x28. Questo significa che abbiamo una sequenza di immagini bidimensionali in cui *non* è specificato il numero di canali. Abbiamo bisogno, per far funzionare la nostra rete in Keras, di dire esplicitamente che stiamo usando delle immagini con 3 dimensioni (la terza dimensione esprime il numero di canali ed è quella che effettivamente rende il nostro input un volume). Per questo motivo facciamo un reshape dei dataset in ingresso (sia quello di train che quello di test): \n"
   ]
  },
  {
   "cell_type": "code",
   "execution_count": 42,
   "metadata": {
    "id": "vYJ8gxD7_jPo"
   },
   "outputs": [
    {
     "name": "stdout",
     "output_type": "stream",
     "text": [
      "(60000, 28, 28)\n",
      "(60000, 28, 28, 1)\n"
     ]
    }
   ],
   "source": [
    "print(X_train.shape)\n",
    "\n",
    "X_train = X_train.reshape(60000,28,28,1)\n",
    "X_test = X_test.reshape(10000,28,28,1)\n",
    "\n",
    "print(X_train.shape)\n",
    "\n",
    "X_train = X_train/255\n",
    "X_test = X_test/255"
   ]
  },
  {
   "cell_type": "code",
   "execution_count": 43,
   "metadata": {
    "colab": {
     "base_uri": "https://localhost:8080/"
    },
    "executionInfo": {
     "elapsed": 198,
     "status": "ok",
     "timestamp": 1632826654152,
     "user": {
      "displayName": "Giuseppe Mastrandrea",
      "photoUrl": "https://lh3.googleusercontent.com/a-/AOh14GjYvnejZP-OkYuCiYaLlQORseFbTZpVvgQgU3MY=s64",
      "userId": "17357291891173938630"
     },
     "user_tz": -120
    },
    "id": "ioRwhuzq_l8W",
    "outputId": "f14973e9-99e6-4f50-9cfc-660b27c6a58d"
   },
   "outputs": [
    {
     "data": {
      "text/plain": [
       "array([0., 0., 0., 0., 0., 1., 0., 0., 0., 0.], dtype=float32)"
      ]
     },
     "execution_count": 43,
     "metadata": {},
     "output_type": "execute_result"
    }
   ],
   "source": [
    "from tensorflow.keras.utils import to_categorical\n",
    "\n",
    "y_train = to_categorical(y_train)\n",
    "y_test = to_categorical(y_test)\n",
    "y_train[0]"
   ]
  },
  {
   "cell_type": "code",
   "execution_count": 48,
   "metadata": {
    "colab": {
     "base_uri": "https://localhost:8080/"
    },
    "executionInfo": {
     "elapsed": 197,
     "status": "ok",
     "timestamp": 1632826659744,
     "user": {
      "displayName": "Giuseppe Mastrandrea",
      "photoUrl": "https://lh3.googleusercontent.com/a-/AOh14GjYvnejZP-OkYuCiYaLlQORseFbTZpVvgQgU3MY=s64",
      "userId": "17357291891173938630"
     },
     "user_tz": -120
    },
    "id": "-PjYWPjy_nWh",
    "outputId": "ca293dd2-e808-411d-c02b-d513651373f8"
   },
   "outputs": [
    {
     "name": "stdout",
     "output_type": "stream",
     "text": [
      "Model: \"sequential_4\"\n",
      "_________________________________________________________________\n",
      "Layer (type)                 Output Shape              Param #   \n",
      "=================================================================\n",
      "conv2d_8 (Conv2D)            (None, 26, 26, 64)        640       \n",
      "_________________________________________________________________\n",
      "conv2d_9 (Conv2D)            (None, 24, 24, 32)        18464     \n",
      "_________________________________________________________________\n",
      "flatten_4 (Flatten)          (None, 18432)             0         \n",
      "_________________________________________________________________\n",
      "dense_4 (Dense)              (None, 10)                184330    \n",
      "=================================================================\n",
      "Total params: 203,434\n",
      "Trainable params: 203,434\n",
      "Non-trainable params: 0\n",
      "_________________________________________________________________\n"
     ]
    }
   ],
   "source": [
    "from tensorflow.keras.models import Sequential\n",
    "from tensorflow.keras.layers import Dense, Conv2D, Flatten\n",
    "#create model\n",
    "model = Sequential()\n",
    "#add model layers\n",
    "model.add(\n",
    "    Conv2D(\n",
    "        64, \n",
    "        kernel_size=3, \n",
    "        activation='relu', \n",
    "        input_shape=(28,28,1) # This is the shape of each input image, 28,28,1 with the 1 signifying that the images are greyscale.\n",
    "    )\n",
    ")\n",
    "\n",
    "\n",
    "model.add(\n",
    "    Conv2D(\n",
    "        32, \n",
    "        kernel_size=3, \n",
    "        activation='relu'\n",
    "    )\n",
    ")\n",
    "\n",
    "model.add(\n",
    "    Flatten() # Flatten serves as a connection between the convolution and dense layers.\n",
    ")\n",
    "\n",
    "model.add(\n",
    "    Dense(\n",
    "        units=10, \n",
    "        activation='softmax' # Softmax makes the output sum up to 1 so the output can be interpreted as probabilities.\n",
    "    )\n",
    ")\n",
    "\n",
    "model.summary()"
   ]
  },
  {
   "cell_type": "code",
   "execution_count": 49,
   "metadata": {
    "id": "7Tc24xB-_oiX"
   },
   "outputs": [],
   "source": [
    "model.compile(optimizer='adam', loss='categorical_crossentropy', metrics=['accuracy'])"
   ]
  },
  {
   "cell_type": "code",
   "execution_count": 50,
   "metadata": {
    "colab": {
     "base_uri": "https://localhost:8080/"
    },
    "executionInfo": {
     "elapsed": 142213,
     "status": "ok",
     "timestamp": 1632828816955,
     "user": {
      "displayName": "Giuseppe Mastrandrea",
      "photoUrl": "https://lh3.googleusercontent.com/a-/AOh14GjYvnejZP-OkYuCiYaLlQORseFbTZpVvgQgU3MY=s64",
      "userId": "17357291891173938630"
     },
     "user_tz": -120
    },
    "id": "v54tz_Ts_rbm",
    "outputId": "21b66273-d8b2-45f6-c230-b39e246cea5d"
   },
   "outputs": [
    {
     "name": "stdout",
     "output_type": "stream",
     "text": [
      "Epoch 1/4\n",
      "1875/1875 [==============================] - 7s 4ms/step - loss: 0.1282 - accuracy: 0.9619 - val_loss: 0.0527 - val_accuracy: 0.9844\n",
      "Epoch 2/4\n",
      "1875/1875 [==============================] - 6s 3ms/step - loss: 0.0478 - accuracy: 0.9850 - val_loss: 0.0468 - val_accuracy: 0.9852\n",
      "Epoch 3/4\n",
      "1875/1875 [==============================] - 6s 3ms/step - loss: 0.0298 - accuracy: 0.9908 - val_loss: 0.0368 - val_accuracy: 0.9882\n",
      "Epoch 4/4\n",
      "1875/1875 [==============================] - 6s 3ms/step - loss: 0.0213 - accuracy: 0.9929 - val_loss: 0.0433 - val_accuracy: 0.9876\n"
     ]
    }
   ],
   "source": [
    "history = model.fit(X_train, y_train, validation_data=(X_test, y_test), epochs=4)"
   ]
  },
  {
   "cell_type": "code",
   "execution_count": 51,
   "metadata": {
    "colab": {
     "base_uri": "https://localhost:8080/"
    },
    "executionInfo": {
     "elapsed": 2801,
     "status": "ok",
     "timestamp": 1632829099256,
     "user": {
      "displayName": "Giuseppe Mastrandrea",
      "photoUrl": "https://lh3.googleusercontent.com/a-/AOh14GjYvnejZP-OkYuCiYaLlQORseFbTZpVvgQgU3MY=s64",
      "userId": "17357291891173938630"
     },
     "user_tz": -120
    },
    "id": "nRjQOCURA9dE",
    "outputId": "0c04e1de-2522-418e-f4e0-4480f3ee5ca3"
   },
   "outputs": [
    {
     "name": "stdout",
     "output_type": "stream",
     "text": [
      "313/313 [==============================] - 1s 2ms/step - loss: 0.0433 - accuracy: 0.9876\n",
      "[0.04334918037056923, 0.9876000285148621]\n",
      "['loss', 'accuracy']\n",
      "Test metrics: loss 0.0433, accuracy 98.76%\n"
     ]
    }
   ],
   "source": [
    "test_score = model.evaluate(X_test, y_test)\n",
    "print(test_score)\n",
    "print(model.metrics_names)\n",
    "print('Test metrics: {} {:.4f}, {} {:.2f}%'.format(\n",
    "    model.metrics_names[0], \n",
    "    test_score[0], \n",
    "    model.metrics_names[1],\n",
    "    test_score[1] * 100\n",
    "    )\n",
    ")\n"
   ]
  },
  {
   "cell_type": "code",
   "execution_count": 52,
   "metadata": {
    "colab": {
     "base_uri": "https://localhost:8080/",
     "height": 658
    },
    "executionInfo": {
     "elapsed": 1110,
     "status": "ok",
     "timestamp": 1632829485412,
     "user": {
      "displayName": "Giuseppe Mastrandrea",
      "photoUrl": "https://lh3.googleusercontent.com/a-/AOh14GjYvnejZP-OkYuCiYaLlQORseFbTZpVvgQgU3MY=s64",
      "userId": "17357291891173938630"
     },
     "user_tz": -120
    },
    "id": "YqMp4nK7Lx0D",
    "outputId": "f7fc4723-b7dd-48ef-dfd4-ae44615a4e82"
   },
   "outputs": [
    {
     "name": "stdout",
     "output_type": "stream",
     "text": [
      "loss\n",
      "accuracy\n",
      "val_loss\n",
      "val_accuracy\n"
     ]
    },
    {
     "data": {
      "text/plain": [
       "Text(0, 0.5, 'loss')"
      ]
     },
     "execution_count": 52,
     "metadata": {},
     "output_type": "execute_result"
    },
    {
     "data": {
      "image/png": "[encoded data removed]",
      "text/plain": [
       "<Figure size 432x288 with 1 Axes>"
      ]
     },
     "metadata": {
      "needs_background": "light"
     },
     "output_type": "display_data"
    },
    {
     "data": {
      "image/png": "[encoded data removed]",
      "text/plain": [
       "<Figure size 432x288 with 1 Axes>"
      ]
     },
     "metadata": {
      "needs_background": "light"
     },
     "output_type": "display_data"
    }
   ],
   "source": [
    "for i in history.history:\n",
    "  print(i)\n",
    "\n",
    "\n",
    "\n",
    "f, ax = plt.subplots()\n",
    "ax.plot(history.history['accuracy'])\n",
    "ax.plot(history.history['val_accuracy'])\n",
    "\n",
    "# disegno della legenda nella migliore posizione automaticamente: loc = 0.\n",
    "ax.legend(['Train acc', 'Validation acc'], loc = 0)\n",
    "ax.set_title('Training/Validation acc per Epoch')\n",
    "ax.set_xlabel('Epoch')\n",
    "ax.set_ylabel('acc')\n",
    "\n",
    "f2, ax2 = plt.subplots()\n",
    "ax2.plot([None] + history.history['loss'])\n",
    "ax2.plot([None] + history.history['val_loss'])\n",
    "ax2.legend(['Train loss', 'Validation loss'], loc = 0)\n",
    "ax2.set_title('Training/Validation loss per Epoch')\n",
    "ax2.set_xlabel('Epoch')\n",
    "ax2.set_ylabel('loss')\n"
   ]
  },
  {
   "cell_type": "code",
   "execution_count": 32,
   "metadata": {
    "executionInfo": {
     "elapsed": 201,
     "status": "ok",
     "timestamp": 1632829105426,
     "user": {
      "displayName": "Giuseppe Mastrandrea",
      "photoUrl": "https://lh3.googleusercontent.com/a-/AOh14GjYvnejZP-OkYuCiYaLlQORseFbTZpVvgQgU3MY=s64",
      "userId": "17357291891173938630"
     },
     "user_tz": -120
    },
    "id": "k8vgNn38D1bM"
   },
   "outputs": [],
   "source": [
    "import numpy as np"
   ]
  },
  {
   "cell_type": "code",
   "execution_count": 64,
   "metadata": {
    "colab": {
     "base_uri": "https://localhost:8080/"
    },
    "executionInfo": {
     "elapsed": 179,
     "status": "ok",
     "timestamp": 1632830980375,
     "user": {
      "displayName": "Giuseppe Mastrandrea",
      "photoUrl": "https://lh3.googleusercontent.com/a-/AOh14GjYvnejZP-OkYuCiYaLlQORseFbTZpVvgQgU3MY=s64",
      "userId": "17357291891173938630"
     },
     "user_tz": -120
    },
    "id": "e56jLEiDFami",
    "outputId": "1919df98-bad4-462b-d164-565e29709118"
   },
   "outputs": [
    {
     "name": "stdout",
     "output_type": "stream",
     "text": [
      "(100, 10)\n",
      "[7 2 1 0 4 1 4 9 5 9 0 6 9 0 1 5 9 7 3 4 9 6 6 5 4 0 7 4 0 1 3 1 3 4 7 2 7\n",
      " 1 2 1 1 7 4 2 3 5 1 2 4 4 6 3 5 5 6 0 4 1 9 5 7 8 9 3 7 4 6 4 3 0 7 0 2 9\n",
      " 1 7 3 2 9 7 7 6 2 7 8 4 7 3 6 1 3 6 9 3 1 4 1 7 6 9]\n",
      "Prediction ->  7\n",
      "Label      ->  7\n",
      "\n",
      "\n",
      "Prediction ->  2\n",
      "Label      ->  2\n",
      "\n",
      "\n",
      "Prediction ->  1\n",
      "Label      ->  1\n",
      "\n",
      "\n",
      "Prediction ->  0\n",
      "Label      ->  0\n",
      "\n",
      "\n",
      "Prediction ->  4\n",
      "Label      ->  4\n",
      "\n",
      "\n",
      "Prediction ->  1\n",
      "Label      ->  1\n",
      "\n",
      "\n",
      "Prediction ->  4\n",
      "Label      ->  4\n",
      "\n",
      "\n",
      "Prediction ->  9\n",
      "Label      ->  9\n",
      "\n",
      "\n",
      "Prediction ->  5\n",
      "Label      ->  5\n",
      "\n",
      "\n",
      "Prediction ->  9\n",
      "Label      ->  9\n",
      "\n",
      "\n",
      "Prediction ->  0\n",
      "Label      ->  0\n",
      "\n",
      "\n",
      "Prediction ->  6\n",
      "Label      ->  6\n",
      "\n",
      "\n",
      "Prediction ->  9\n",
      "Label      ->  9\n",
      "\n",
      "\n",
      "Prediction ->  0\n",
      "Label      ->  0\n",
      "\n",
      "\n",
      "Prediction ->  1\n",
      "Label      ->  1\n",
      "\n",
      "\n",
      "Prediction ->  5\n",
      "Label      ->  5\n",
      "\n",
      "\n",
      "Prediction ->  9\n",
      "Label      ->  9\n",
      "\n",
      "\n",
      "Prediction ->  7\n",
      "Label      ->  7\n",
      "\n",
      "\n",
      "Prediction ->  3\n",
      "Label      ->  3\n",
      "\n",
      "\n",
      "Prediction ->  4\n",
      "Label      ->  4\n",
      "\n",
      "\n",
      "Prediction ->  9\n",
      "Label      ->  9\n",
      "\n",
      "\n",
      "Prediction ->  6\n",
      "Label      ->  6\n",
      "\n",
      "\n",
      "Prediction ->  6\n",
      "Label      ->  6\n",
      "\n",
      "\n",
      "Prediction ->  5\n",
      "Label      ->  5\n",
      "\n",
      "\n",
      "Prediction ->  4\n",
      "Label      ->  4\n",
      "\n",
      "\n",
      "Prediction ->  0\n",
      "Label      ->  0\n",
      "\n",
      "\n",
      "Prediction ->  7\n",
      "Label      ->  7\n",
      "\n",
      "\n",
      "Prediction ->  4\n",
      "Label      ->  4\n",
      "\n",
      "\n",
      "Prediction ->  0\n",
      "Label      ->  0\n",
      "\n",
      "\n",
      "Prediction ->  1\n",
      "Label      ->  1\n",
      "\n",
      "\n",
      "Prediction ->  3\n",
      "Label      ->  3\n",
      "\n",
      "\n",
      "Prediction ->  1\n",
      "Label      ->  1\n",
      "\n",
      "\n",
      "Prediction ->  3\n",
      "Label      ->  3\n",
      "\n",
      "\n",
      "Prediction ->  4\n",
      "Label      ->  4\n",
      "\n",
      "\n",
      "Prediction ->  7\n",
      "Label      ->  7\n",
      "\n",
      "\n",
      "Prediction ->  2\n",
      "Label      ->  2\n",
      "\n",
      "\n",
      "Prediction ->  7\n",
      "Label      ->  7\n",
      "\n",
      "\n",
      "Prediction ->  1\n",
      "Label      ->  1\n",
      "\n",
      "\n",
      "Prediction ->  2\n",
      "Label      ->  2\n",
      "\n",
      "\n",
      "Prediction ->  1\n",
      "Label      ->  1\n",
      "\n",
      "\n",
      "Prediction ->  1\n",
      "Label      ->  1\n",
      "\n",
      "\n",
      "Prediction ->  7\n",
      "Label      ->  7\n",
      "\n",
      "\n",
      "Prediction ->  4\n",
      "Label      ->  4\n",
      "\n",
      "\n",
      "Prediction ->  2\n",
      "Label      ->  2\n",
      "\n",
      "\n",
      "Prediction ->  3\n",
      "Label      ->  3\n",
      "\n",
      "\n",
      "Prediction ->  5\n",
      "Label      ->  5\n",
      "\n",
      "\n",
      "Prediction ->  1\n",
      "Label      ->  1\n",
      "\n",
      "\n",
      "Prediction ->  2\n",
      "Label      ->  2\n",
      "\n",
      "\n",
      "Prediction ->  4\n",
      "Label      ->  4\n",
      "\n",
      "\n",
      "Prediction ->  4\n",
      "Label      ->  4\n",
      "\n",
      "\n",
      "Prediction ->  6\n",
      "Label      ->  6\n",
      "\n",
      "\n",
      "Prediction ->  3\n",
      "Label      ->  3\n",
      "\n",
      "\n",
      "Prediction ->  5\n",
      "Label      ->  5\n",
      "\n",
      "\n",
      "Prediction ->  5\n",
      "Label      ->  5\n",
      "\n",
      "\n",
      "Prediction ->  6\n",
      "Label      ->  6\n",
      "\n",
      "\n",
      "Prediction ->  0\n",
      "Label      ->  0\n",
      "\n",
      "\n",
      "Prediction ->  4\n",
      "Label      ->  4\n",
      "\n",
      "\n",
      "Prediction ->  1\n",
      "Label      ->  1\n",
      "\n",
      "\n",
      "Prediction ->  9\n",
      "Label      ->  9\n",
      "\n",
      "\n",
      "Prediction ->  5\n",
      "Label      ->  5\n",
      "\n",
      "\n",
      "Prediction ->  7\n",
      "Label      ->  7\n",
      "\n",
      "\n",
      "Prediction ->  8\n",
      "Label      ->  8\n",
      "\n",
      "\n",
      "Prediction ->  9\n",
      "Label      ->  9\n",
      "\n",
      "\n",
      "Prediction ->  3\n",
      "Label      ->  3\n",
      "\n",
      "\n",
      "Prediction ->  7\n",
      "Label      ->  7\n",
      "\n",
      "\n",
      "Prediction ->  4\n",
      "Label      ->  4\n",
      "\n",
      "\n",
      "Prediction ->  6\n",
      "Label      ->  6\n",
      "\n",
      "\n",
      "Prediction ->  4\n",
      "Label      ->  4\n",
      "\n",
      "\n",
      "Prediction ->  3\n",
      "Label      ->  3\n",
      "\n",
      "\n",
      "Prediction ->  0\n",
      "Label      ->  0\n",
      "\n",
      "\n",
      "Prediction ->  7\n",
      "Label      ->  7\n",
      "\n",
      "\n",
      "Prediction ->  0\n",
      "Label      ->  0\n",
      "\n",
      "\n",
      "Prediction ->  2\n",
      "Label      ->  2\n",
      "\n",
      "\n",
      "Prediction ->  9\n",
      "Label      ->  9\n",
      "\n",
      "\n",
      "Prediction ->  1\n",
      "Label      ->  1\n",
      "\n",
      "\n",
      "Prediction ->  7\n",
      "Label      ->  7\n",
      "\n",
      "\n",
      "Prediction ->  3\n",
      "Label      ->  3\n",
      "\n",
      "\n",
      "Prediction ->  2\n",
      "Label      ->  2\n",
      "\n",
      "\n",
      "Prediction ->  9\n",
      "Label      ->  9\n",
      "\n",
      "\n",
      "Prediction ->  7\n",
      "Label      ->  7\n",
      "\n",
      "\n",
      "Prediction ->  7\n",
      "Label      ->  7\n",
      "\n",
      "\n",
      "Prediction ->  6\n",
      "Label      ->  6\n",
      "\n",
      "\n",
      "Prediction ->  2\n",
      "Label      ->  2\n",
      "\n",
      "\n",
      "Prediction ->  7\n",
      "Label      ->  7\n",
      "\n",
      "\n",
      "Prediction ->  8\n",
      "Label      ->  8\n",
      "\n",
      "\n",
      "Prediction ->  4\n",
      "Label      ->  4\n",
      "\n",
      "\n",
      "Prediction ->  7\n",
      "Label      ->  7\n",
      "\n",
      "\n",
      "Prediction ->  3\n",
      "Label      ->  3\n",
      "\n",
      "\n",
      "Prediction ->  6\n",
      "Label      ->  6\n",
      "\n",
      "\n",
      "Prediction ->  1\n",
      "Label      ->  1\n",
      "\n",
      "\n",
      "Prediction ->  3\n",
      "Label      ->  3\n",
      "\n",
      "\n",
      "Prediction ->  6\n",
      "Label      ->  6\n",
      "\n",
      "\n",
      "Prediction ->  9\n",
      "Label      ->  9\n",
      "\n",
      "\n",
      "Prediction ->  3\n",
      "Label      ->  3\n",
      "\n",
      "\n",
      "Prediction ->  1\n",
      "Label      ->  1\n",
      "\n",
      "\n",
      "Prediction ->  4\n",
      "Label      ->  4\n",
      "\n",
      "\n",
      "Prediction ->  1\n",
      "Label      ->  1\n",
      "\n",
      "\n",
      "Prediction ->  7\n",
      "Label      ->  7\n",
      "\n",
      "\n",
      "Prediction ->  6\n",
      "Label      ->  6\n",
      "\n",
      "\n",
      "Prediction ->  9\n",
      "Label      ->  9\n",
      "\n",
      "\n",
      "Predizioni totali: 100 su 100 (100.0%)\n"
     ]
    }
   ],
   "source": [
    "prediction = model.predict(X_test[0:100])\n",
    "print(prediction.shape)\n",
    "\n",
    "classes = np.argmax(prediction, axis=1)\n",
    "print(classes)\n",
    "\n",
    "length = 100\n",
    "success = 0\n",
    "\n",
    "for i in range(0, len(classes)):\n",
    "    print(\"Prediction -> \", classes[i])\n",
    "    print(\"Label      -> \", np.argmax(y_test[i]))\n",
    "    print(\"\\n\")\n",
    "\n",
    "    if classes[i] == np.argmax(y_test[i]):\n",
    "        success = success + 1\n",
    "    \n",
    "    \n",
    "print(\"Predizioni totali: {} su {} ({}%)\".format(success, length, success/length*100))\n"
   ]
  },
  {
   "cell_type": "code",
   "execution_count": null,
   "metadata": {
    "id": "2PGyYtIQTSgC"
   },
   "outputs": [],
   "source": []
  }
 ],
 "metadata": {
  "accelerator": "GPU",
  "colab": {
   "authorship_tag": "ABX9TyOyamfzaE+A0ochESsqiTqX",
   "collapsed_sections": [],
   "name": "first_cnn.ipynb",
   "provenance": []
  },
  "kernelspec": {
   "display_name": "Python 3 (ipykernel)",
   "language": "python",
   "name": "python3"
  },
  "language_info": {
   "codemirror_mode": {
    "name": "ipython",
    "version": 3
   },
   "file_extension": ".py",
   "mimetype": "text/x-python",
   "name": "python",
   "nbconvert_exporter": "python",
   "pygments_lexer": "ipython3",
   "version": "3.7.4"
  }
 },
 "nbformat": 4,
 "nbformat_minor": 1
}
