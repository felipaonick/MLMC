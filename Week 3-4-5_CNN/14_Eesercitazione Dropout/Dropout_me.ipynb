{
  "nbformat": 4,
  "nbformat_minor": 0,
  "metadata": {
    "colab": {
      "provenance": []
    },
    "kernelspec": {
      "name": "python3",
      "display_name": "Python 3"
    },
    "language_info": {
      "name": "python"
    }
  },
  "cells": [
    {
      "cell_type": "markdown",
      "source": [
        "# Dropout"
      ],
      "metadata": {
        "id": "c4Ru7AHWxTuW"
      }
    },
    {
      "cell_type": "code",
      "source": [
        "from tensorflow.keras.datasets import mnist\n",
        "from tensorflow.keras.models import Sequential\n",
        "from tensorflow.keras.layers import Dense, Flatten, Activation, Dropout\n",
        "from tensorflow.keras.utils import normalize, to_categorical\n",
        "\n",
        "from matplotlib import pyplot as plt\n",
        "plt.style.use('dark_background')"
      ],
      "metadata": {
        "id": "y0mIG8jdxSXv"
      },
      "execution_count": 37,
      "outputs": []
    },
    {
      "cell_type": "code",
      "source": [
        "# recuper il dataset\n",
        "(X_train, y_train), (X_test, y_test) = mnist.load_data()"
      ],
      "metadata": {
        "id": "YrNsG7Kw0MfD"
      },
      "execution_count": 38,
      "outputs": []
    },
    {
      "cell_type": "code",
      "source": [
        "# visualizzazione del primo esempio\n",
        "plt.imshow(X_train[0], cmap='binary') #colormap binary (bianco e nero)\n",
        "plt.title(y_train[0])\n",
        "plt.show()"
      ],
      "metadata": {
        "colab": {
          "base_uri": "https://localhost:8080/",
          "height": 452
        },
        "id": "iQhGi7Q_3BRm",
        "outputId": "50b3476f-db3a-4b5b-89ff-4b9930ca21fa"
      },
      "execution_count": 4,
      "outputs": [
        {
          "output_type": "display_data",
          "data": {
            "text/plain": [
              "<Figure size 640x480 with 1 Axes>"
            ],
            "image/png": "[encoded data removed]"
          },
          "metadata": {}
        }
      ]
    },
    {
      "cell_type": "code",
      "source": [
        "# preprocessing\n",
        "print(X_train[0][14])\n",
        "print(y_train[0])\n",
        "print('\\n------------\\n')\n",
        "\n",
        "X_train = normalize(X_train, axis=1)\n",
        "X_test = normalize(X_test, axis=1)\n",
        "\n",
        "y_train = to_categorical(y_train)\n",
        "y_test = to_categorical(y_test)\n",
        "\n",
        "print(X_train[0][14])\n",
        "print('-------')\n",
        "print(y_train[0])"
      ],
      "metadata": {
        "colab": {
          "base_uri": "https://localhost:8080/"
        },
        "id": "A6ry9A0v3V0E",
        "outputId": "e23d9485-e1e0-4744-ef4a-2402df51fe54"
      },
      "execution_count": 39,
      "outputs": [
        {
          "output_type": "stream",
          "name": "stdout",
          "text": [
            "[  0   0   0   0   0   0   0   0   0   0   0   0   0  81 240 253 253 119\n",
            "  25   0   0   0   0   0   0   0   0   0]\n",
            "5\n",
            "\n",
            "------------\n",
            "\n",
            "[0.         0.         0.         0.         0.         0.\n",
            " 0.         0.         0.         0.         0.         0.\n",
            " 0.         0.10498298 0.34940902 0.3689874  0.34978968 0.15370495\n",
            " 0.04089933 0.         0.         0.         0.         0.\n",
            " 0.         0.         0.         0.        ]\n",
            "-------\n",
            "[0. 0. 0. 0. 0. 1. 0. 0. 0. 0.]\n"
          ]
        }
      ]
    },
    {
      "cell_type": "code",
      "source": [
        "# modello senza dropout\n",
        "model_without_dropout = Sequential()\n",
        "model_without_dropout.add(Flatten(input_shape=(28, 28)))\n",
        "model_without_dropout.add(Dense(512))\n",
        "model_without_dropout.add(Activation('relu'))\n",
        "model_without_dropout.add(Dense(512))\n",
        "model_without_dropout.add(Activation('relu'))\n",
        "model_without_dropout.add(Dense(10))\n",
        "model_without_dropout.add(Activation('softmax'))\n",
        "\n",
        "model_without_dropout.compile(\n",
        "    loss='categorical_crossentropy',\n",
        "    optimizer='adam',\n",
        "    metrics=['accuracy']\n",
        ")\n",
        "\n",
        "model_without_dropout.summary()"
      ],
      "metadata": {
        "colab": {
          "base_uri": "https://localhost:8080/"
        },
        "id": "FI2xcAYW6IHo",
        "outputId": "30d092d6-0c42-4781-e45f-2f8df1fce42f"
      },
      "execution_count": 6,
      "outputs": [
        {
          "output_type": "stream",
          "name": "stdout",
          "text": [
            "Model: \"sequential\"\n",
            "_________________________________________________________________\n",
            " Layer (type)                Output Shape              Param #   \n",
            "=================================================================\n",
            " flatten (Flatten)           (None, 784)               0         \n",
            "                                                                 \n",
            " dense (Dense)               (None, 512)               401920    \n",
            "                                                                 \n",
            " activation (Activation)     (None, 512)               0         \n",
            "                                                                 \n",
            " dense_1 (Dense)             (None, 512)               262656    \n",
            "                                                                 \n",
            " activation_1 (Activation)   (None, 512)               0         \n",
            "                                                                 \n",
            " dense_2 (Dense)             (None, 10)                5130      \n",
            "                                                                 \n",
            " activation_2 (Activation)   (None, 10)                0         \n",
            "                                                                 \n",
            "=================================================================\n",
            "Total params: 669706 (2.55 MB)\n",
            "Trainable params: 669706 (2.55 MB)\n",
            "Non-trainable params: 0 (0.00 Byte)\n",
            "_________________________________________________________________\n"
          ]
        }
      ]
    },
    {
      "cell_type": "code",
      "source": [
        "history_without_dropout = model_without_dropout.fit(\n",
        "    X_train,\n",
        "    y_train,\n",
        "    epochs=10,\n",
        "    batch_size=32,\n",
        "    validation_split=0.1\n",
        ")"
      ],
      "metadata": {
        "colab": {
          "base_uri": "https://localhost:8080/"
        },
        "id": "M64SA26y-ho_",
        "outputId": "a7e3a8f2-3123-4b0d-f27e-b6b437accedb"
      },
      "execution_count": 7,
      "outputs": [
        {
          "output_type": "stream",
          "name": "stdout",
          "text": [
            "Epoch 1/10\n",
            "1688/1688 [==============================] - 20s 11ms/step - loss: 0.2128 - accuracy: 0.9356 - val_loss: 0.1127 - val_accuracy: 0.9690\n",
            "Epoch 2/10\n",
            "1688/1688 [==============================] - 20s 12ms/step - loss: 0.0860 - accuracy: 0.9729 - val_loss: 0.0810 - val_accuracy: 0.9747\n",
            "Epoch 3/10\n",
            "1688/1688 [==============================] - 18s 11ms/step - loss: 0.0585 - accuracy: 0.9809 - val_loss: 0.0835 - val_accuracy: 0.9767\n",
            "Epoch 4/10\n",
            "1688/1688 [==============================] - 18s 11ms/step - loss: 0.0401 - accuracy: 0.9871 - val_loss: 0.0779 - val_accuracy: 0.9767\n",
            "Epoch 5/10\n",
            "1688/1688 [==============================] - 18s 11ms/step - loss: 0.0321 - accuracy: 0.9893 - val_loss: 0.0817 - val_accuracy: 0.9788\n",
            "Epoch 6/10\n",
            "1688/1688 [==============================] - 17s 10ms/step - loss: 0.0244 - accuracy: 0.9918 - val_loss: 0.0893 - val_accuracy: 0.9793\n",
            "Epoch 7/10\n",
            "1688/1688 [==============================] - 24s 14ms/step - loss: 0.0221 - accuracy: 0.9927 - val_loss: 0.1006 - val_accuracy: 0.9773\n",
            "Epoch 8/10\n",
            "1688/1688 [==============================] - 23s 13ms/step - loss: 0.0179 - accuracy: 0.9943 - val_loss: 0.1047 - val_accuracy: 0.9785\n",
            "Epoch 9/10\n",
            "1688/1688 [==============================] - 19s 12ms/step - loss: 0.0163 - accuracy: 0.9947 - val_loss: 0.0939 - val_accuracy: 0.9803\n",
            "Epoch 10/10\n",
            "1688/1688 [==============================] - 18s 11ms/step - loss: 0.0142 - accuracy: 0.9959 - val_loss: 0.1116 - val_accuracy: 0.9790\n"
          ]
        }
      ]
    },
    {
      "cell_type": "code",
      "source": [
        "# tracciamo i grafici\n",
        "loss = history_without_dropout.history['loss']\n",
        "val_loss = history_without_dropout.history['val_loss']\n",
        "\n",
        "epochs = range(1, len(loss) + 1) #estremo destra non compreso\n",
        "\n",
        "plt.plot(epochs, loss, 'y', label='Train')\n",
        "plt.plot(epochs, val_loss, 'r', label='Test')\n",
        "plt.title('Errore')\n",
        "plt.xlabel('Epoche')\n",
        "plt.ylabel('Errore')\n",
        "plt.legend()\n",
        "plt.show()"
      ],
      "metadata": {
        "colab": {
          "base_uri": "https://localhost:8080/",
          "height": 472
        },
        "id": "_FK7RSi-AAxR",
        "outputId": "9b0ec67e-daf6-493e-ca78-ceec4b8d4038"
      },
      "execution_count": 8,
      "outputs": [
        {
          "output_type": "display_data",
          "data": {
            "text/plain": [
              "<Figure size 640x480 with 1 Axes>"
            ],
            "image/png": "[encoded data removed]"
          },
          "metadata": {}
        }
      ]
    },
    {
      "cell_type": "markdown",
      "source": [
        "Osservando gli errori nella fase di train e di test, vadiamo subito che hanno andamenti molto diversi. Questo è un'indicatore di Overfitting. Infatti si nota che il modello ha un comporatmento in fase di train che è diverso dal comportamento in fase di test (sui dati di test)."
      ],
      "metadata": {
        "id": "dzrTwLnkDaFZ"
      }
    },
    {
      "cell_type": "code",
      "source": [
        "accuracy = history_without_dropout.history['accuracy']\n",
        "val_accuracy = history_without_dropout.history['val_accuracy']\n",
        "\n",
        "epochs = range(1, len(loss) + 1) #estremo destra non compreso\n",
        "\n",
        "plt.plot(epochs, accuracy, 'y', label='Train')\n",
        "plt.plot(epochs, val_accuracy, 'r', label='Test')\n",
        "plt.title('Accuracy')\n",
        "plt.xlabel('Epoche')\n",
        "plt.ylabel('Accuracy')\n",
        "plt.legend()\n",
        "plt.show()"
      ],
      "metadata": {
        "colab": {
          "base_uri": "https://localhost:8080/",
          "height": 472
        },
        "id": "nQIYvcZoBpSE",
        "outputId": "8ae90948-f33c-439c-ff48-f1f9c59923a7"
      },
      "execution_count": 9,
      "outputs": [
        {
          "output_type": "display_data",
          "data": {
            "text/plain": [
              "<Figure size 640x480 with 1 Axes>"
            ],
            "image/png": "[encoded data removed]"
          },
          "metadata": {}
        }
      ]
    },
    {
      "cell_type": "code",
      "source": [
        "from typing import no_type_check_decorator\n",
        "# abbiamo visto che c'è la presenza di overfitting nel modello\n",
        "# stampiamo comunque la valuatazione\n",
        "\n",
        "no_dropout_test_loss, no_dropout_test_accuracy = model_without_dropout.evaluate(X_test, y_test)\n",
        "\n",
        "print('Senza dropout, accuratezza nei dati di test = ', no_dropout_test_accuracy * 100, '%')"
      ],
      "metadata": {
        "colab": {
          "base_uri": "https://localhost:8080/"
        },
        "id": "ytd1DyT0CVqT",
        "outputId": "12bc077d-6b0b-4b8f-c062-923593ea7b32"
      },
      "execution_count": 10,
      "outputs": [
        {
          "output_type": "stream",
          "name": "stdout",
          "text": [
            "313/313 [==============================] - 2s 5ms/step - loss: 0.1177 - accuracy: 0.9757\n",
            "Senza dropout, accuratezza nei dati di test =  97.57000207901001 %\n"
          ]
        }
      ]
    },
    {
      "cell_type": "code",
      "source": [
        "# facciamo lo stesso modello di prima ma con dropout\n",
        "model_dropout = Sequential()\n",
        "model_dropout.add(Flatten(input_shape=(28, 28)))\n",
        "model_dropout.add(Dense(512))\n",
        "# aggiungiamo la probabilità del 50% per ogni neurone di essere presente nella rete\n",
        "model_dropout.add(Dropout(0.5))\n",
        "model_dropout.add(Activation('relu'))\n",
        "model_dropout.add(Dense(512))\n",
        "# aggiungiamo il dropout\n",
        "model_dropout.add(Dropout(0.5))\n",
        "model_dropout.add(Activation('relu'))\n",
        "model_dropout.add(Dense(10))\n",
        "model_dropout.add(Activation('softmax'))\n",
        "\n",
        "model_dropout.compile(\n",
        "    loss='categorical_crossentropy',\n",
        "    optimizer = 'Adam',\n",
        "    metrics=['accuracy']\n",
        ")\n",
        "\n",
        "model_dropout.summary()"
      ],
      "metadata": {
        "colab": {
          "base_uri": "https://localhost:8080/"
        },
        "id": "Kxtjs2WeFjCH",
        "outputId": "abd69bb3-44a2-43a4-dddc-3d1e2912193d"
      },
      "execution_count": 40,
      "outputs": [
        {
          "output_type": "stream",
          "name": "stdout",
          "text": [
            "Model: \"sequential_5\"\n",
            "_________________________________________________________________\n",
            " Layer (type)                Output Shape              Param #   \n",
            "=================================================================\n",
            " flatten_5 (Flatten)         (None, 784)               0         \n",
            "                                                                 \n",
            " dense_15 (Dense)            (None, 512)               401920    \n",
            "                                                                 \n",
            " dropout_8 (Dropout)         (None, 512)               0         \n",
            "                                                                 \n",
            " activation_15 (Activation)  (None, 512)               0         \n",
            "                                                                 \n",
            " dense_16 (Dense)            (None, 512)               262656    \n",
            "                                                                 \n",
            " dropout_9 (Dropout)         (None, 512)               0         \n",
            "                                                                 \n",
            " activation_16 (Activation)  (None, 512)               0         \n",
            "                                                                 \n",
            " dense_17 (Dense)            (None, 10)                5130      \n",
            "                                                                 \n",
            " activation_17 (Activation)  (None, 10)                0         \n",
            "                                                                 \n",
            "=================================================================\n",
            "Total params: 669706 (2.55 MB)\n",
            "Trainable params: 669706 (2.55 MB)\n",
            "Non-trainable params: 0 (0.00 Byte)\n",
            "_________________________________________________________________\n"
          ]
        }
      ]
    },
    {
      "cell_type": "code",
      "source": [
        "# l'addestramento sarà più veloce poichè abbiamo meno parametri da addestrare\n",
        "from keras.callbacks import CSVLogger\n",
        "\n",
        "# Set up the logger before initiating training\n",
        "csv_logger = CSVLogger('training.log', separator=',', append=False)\n",
        "\n",
        "history_dropout= model_dropout.fit(\n",
        "    X_train,\n",
        "    y_train,\n",
        "    callbacks=[csv_logger],\n",
        "    batch_size=32,\n",
        "    epochs=20,\n",
        "    validation_split = 0.1,\n",
        "    verbose=1\n",
        ")\n",
        "\n",
        "model_dropout.save('model_dropout.keras')"
      ],
      "metadata": {
        "colab": {
          "base_uri": "https://localhost:8080/"
        },
        "id": "pbOV-kSnixBD",
        "outputId": "7ed191e9-348f-460b-83aa-131069705f2d"
      },
      "execution_count": 41,
      "outputs": [
        {
          "output_type": "stream",
          "name": "stdout",
          "text": [
            "Epoch 1/20\n",
            "1688/1688 [==============================] - 22s 13ms/step - loss: 0.3265 - accuracy: 0.9005 - val_loss: 0.1050 - val_accuracy: 0.9717\n",
            "Epoch 2/20\n",
            "1688/1688 [==============================] - 18s 11ms/step - loss: 0.1721 - accuracy: 0.9475 - val_loss: 0.0888 - val_accuracy: 0.9738\n",
            "Epoch 3/20\n",
            "1688/1688 [==============================] - 23s 14ms/step - loss: 0.1374 - accuracy: 0.9584 - val_loss: 0.0816 - val_accuracy: 0.9768\n",
            "Epoch 4/20\n",
            "1688/1688 [==============================] - 30s 18ms/step - loss: 0.1170 - accuracy: 0.9650 - val_loss: 0.0727 - val_accuracy: 0.9782\n",
            "Epoch 5/20\n",
            "1688/1688 [==============================] - 21s 12ms/step - loss: 0.1072 - accuracy: 0.9676 - val_loss: 0.0778 - val_accuracy: 0.9778\n",
            "Epoch 6/20\n",
            "1688/1688 [==============================] - 20s 12ms/step - loss: 0.0996 - accuracy: 0.9694 - val_loss: 0.0754 - val_accuracy: 0.9782\n",
            "Epoch 7/20\n",
            "1688/1688 [==============================] - 19s 11ms/step - loss: 0.0898 - accuracy: 0.9726 - val_loss: 0.0651 - val_accuracy: 0.9815\n",
            "Epoch 8/20\n",
            "1688/1688 [==============================] - 23s 14ms/step - loss: 0.0832 - accuracy: 0.9744 - val_loss: 0.0649 - val_accuracy: 0.9835\n",
            "Epoch 9/20\n",
            "1688/1688 [==============================] - 18s 11ms/step - loss: 0.0817 - accuracy: 0.9762 - val_loss: 0.0740 - val_accuracy: 0.9812\n",
            "Epoch 10/20\n",
            "1688/1688 [==============================] - 19s 11ms/step - loss: 0.0748 - accuracy: 0.9767 - val_loss: 0.0719 - val_accuracy: 0.9802\n",
            "Epoch 11/20\n",
            "1688/1688 [==============================] - 19s 11ms/step - loss: 0.0762 - accuracy: 0.9770 - val_loss: 0.0675 - val_accuracy: 0.9843\n",
            "Epoch 12/20\n",
            "1688/1688 [==============================] - 19s 11ms/step - loss: 0.0715 - accuracy: 0.9779 - val_loss: 0.0750 - val_accuracy: 0.9803\n",
            "Epoch 13/20\n",
            "1688/1688 [==============================] - 18s 11ms/step - loss: 0.0702 - accuracy: 0.9785 - val_loss: 0.0708 - val_accuracy: 0.9833\n",
            "Epoch 14/20\n",
            "1688/1688 [==============================] - 20s 12ms/step - loss: 0.0655 - accuracy: 0.9804 - val_loss: 0.0707 - val_accuracy: 0.9820\n",
            "Epoch 15/20\n",
            "1688/1688 [==============================] - 19s 11ms/step - loss: 0.0676 - accuracy: 0.9799 - val_loss: 0.0737 - val_accuracy: 0.9838\n",
            "Epoch 16/20\n",
            "1688/1688 [==============================] - 18s 11ms/step - loss: 0.0634 - accuracy: 0.9811 - val_loss: 0.0699 - val_accuracy: 0.9842\n",
            "Epoch 17/20\n",
            "1688/1688 [==============================] - 20s 12ms/step - loss: 0.0589 - accuracy: 0.9824 - val_loss: 0.0821 - val_accuracy: 0.9820\n",
            "Epoch 18/20\n",
            "1688/1688 [==============================] - 18s 11ms/step - loss: 0.0623 - accuracy: 0.9809 - val_loss: 0.0706 - val_accuracy: 0.9822\n",
            "Epoch 19/20\n",
            "1688/1688 [==============================] - 18s 11ms/step - loss: 0.0589 - accuracy: 0.9829 - val_loss: 0.0721 - val_accuracy: 0.9823\n",
            "Epoch 20/20\n",
            "1688/1688 [==============================] - 21s 13ms/step - loss: 0.0571 - accuracy: 0.9835 - val_loss: 0.0812 - val_accuracy: 0.9807\n"
          ]
        }
      ]
    },
    {
      "cell_type": "code",
      "source": [
        "# tracciamo i grafici\n",
        "import pandas as pd\n",
        "log_data = pd.read_csv('training.log', sep=',', engine='python')\n",
        "\n",
        "log_data.head()"
      ],
      "metadata": {
        "colab": {
          "base_uri": "https://localhost:8080/",
          "height": 206
        },
        "id": "VX1lOq5JmUs1",
        "outputId": "48e5b9d9-e62e-44fe-ec8c-49bbbb93a7a9"
      },
      "execution_count": 42,
      "outputs": [
        {
          "output_type": "execute_result",
          "data": {
            "text/plain": [
              "   epoch  accuracy      loss  val_accuracy  val_loss\n",
              "0      0  0.900481  0.326453      0.971667  0.104995\n",
              "1      1  0.947481  0.172070      0.973833  0.088798\n",
              "2      2  0.958444  0.137419      0.976833  0.081632\n",
              "3      3  0.964981  0.117022      0.978167  0.072744\n",
              "4      4  0.967630  0.107206      0.977833  0.077760"
            ],
            "text/html": [
              "\n",
              "  <div id=\"df-4cb3408a-732e-42a8-a798-56f0fd6bca4d\" class=\"colab-df-container\">\n",
              "    <div>\n",
              "<style scoped>\n",
              "    .dataframe tbody tr th:only-of-type {\n",
              "        vertical-align: middle;\n",
              "    }\n",
              "\n",
              "    .dataframe tbody tr th {\n",
              "        vertical-align: top;\n",
              "    }\n",
              "\n",
              "    .dataframe thead th {\n",
              "        text-align: right;\n",
              "    }\n",
              "</style>\n",
              "<table border=\"1\" class=\"dataframe\">\n",
              "  <thead>\n",
              "    <tr style=\"text-align: right;\">\n",
              "      <th></th>\n",
              "      <th>epoch</th>\n",
              "      <th>accuracy</th>\n",
              "      <th>loss</th>\n",
              "      <th>val_accuracy</th>\n",
              "      <th>val_loss</th>\n",
              "    </tr>\n",
              "  </thead>\n",
              "  <tbody>\n",
              "    <tr>\n",
              "      <th>0</th>\n",
              "      <td>0</td>\n",
              "      <td>0.900481</td>\n",
              "      <td>0.326453</td>\n",
              "      <td>0.971667</td>\n",
              "      <td>0.104995</td>\n",
              "    </tr>\n",
              "    <tr>\n",
              "      <th>1</th>\n",
              "      <td>1</td>\n",
              "      <td>0.947481</td>\n",
              "      <td>0.172070</td>\n",
              "      <td>0.973833</td>\n",
              "      <td>0.088798</td>\n",
              "    </tr>\n",
              "    <tr>\n",
              "      <th>2</th>\n",
              "      <td>2</td>\n",
              "      <td>0.958444</td>\n",
              "      <td>0.137419</td>\n",
              "      <td>0.976833</td>\n",
              "      <td>0.081632</td>\n",
              "    </tr>\n",
              "    <tr>\n",
              "      <th>3</th>\n",
              "      <td>3</td>\n",
              "      <td>0.964981</td>\n",
              "      <td>0.117022</td>\n",
              "      <td>0.978167</td>\n",
              "      <td>0.072744</td>\n",
              "    </tr>\n",
              "    <tr>\n",
              "      <th>4</th>\n",
              "      <td>4</td>\n",
              "      <td>0.967630</td>\n",
              "      <td>0.107206</td>\n",
              "      <td>0.977833</td>\n",
              "      <td>0.077760</td>\n",
              "    </tr>\n",
              "  </tbody>\n",
              "</table>\n",
              "</div>\n",
              "    <div class=\"colab-df-buttons\">\n",
              "\n",
              "  <div class=\"colab-df-container\">\n",
              "    <button class=\"colab-df-convert\" onclick=\"convertToInteractive('df-4cb3408a-732e-42a8-a798-56f0fd6bca4d')\"\n",
              "            title=\"Convert this dataframe to an interactive table.\"\n",
              "            style=\"display:none;\">\n",
              "\n",
              "  <svg xmlns=\"http://www.w3.org/2000/svg\" height=\"24px\" viewBox=\"0 -960 960 960\">\n",
              "    <path d=\"M120-120v-720h720v720H120Zm60-500h600v-160H180v160Zm220 220h160v-160H400v160Zm0 220h160v-160H400v160ZM180-400h160v-160H180v160Zm440 0h160v-160H620v160ZM180-180h160v-160H180v160Zm440 0h160v-160H620v160Z\"/>\n",
              "  </svg>\n",
              "    </button>\n",
              "\n",
              "  <style>\n",
              "    .colab-df-container {\n",
              "      display:flex;\n",
              "      gap: 12px;\n",
              "    }\n",
              "\n",
              "    .colab-df-convert {\n",
              "      background-color: #E8F0FE;\n",
              "      border: none;\n",
              "      border-radius: 50%;\n",
              "      cursor: pointer;\n",
              "      display: none;\n",
              "      fill: #1967D2;\n",
              "      height: 32px;\n",
              "      padding: 0 0 0 0;\n",
              "      width: 32px;\n",
              "    }\n",
              "\n",
              "    .colab-df-convert:hover {\n",
              "      background-color: #E2EBFA;\n",
              "      box-shadow: 0px 1px 2px rgba(60, 64, 67, 0.3), 0px 1px 3px 1px rgba(60, 64, 67, 0.15);\n",
              "      fill: #174EA6;\n",
              "    }\n",
              "\n",
              "    .colab-df-buttons div {\n",
              "      margin-bottom: 4px;\n",
              "    }\n",
              "\n",
              "    [theme=dark] .colab-df-convert {\n",
              "      background-color: #3B4455;\n",
              "      fill: #D2E3FC;\n",
              "    }\n",
              "\n",
              "    [theme=dark] .colab-df-convert:hover {\n",
              "      background-color: #434B5C;\n",
              "      box-shadow: 0px 1px 3px 1px rgba(0, 0, 0, 0.15);\n",
              "      filter: drop-shadow(0px 1px 2px rgba(0, 0, 0, 0.3));\n",
              "      fill: #FFFFFF;\n",
              "    }\n",
              "  </style>\n",
              "\n",
              "    <script>\n",
              "      const buttonEl =\n",
              "        document.querySelector('#df-4cb3408a-732e-42a8-a798-56f0fd6bca4d button.colab-df-convert');\n",
              "      buttonEl.style.display =\n",
              "        google.colab.kernel.accessAllowed ? 'block' : 'none';\n",
              "\n",
              "      async function convertToInteractive(key) {\n",
              "        const element = document.querySelector('#df-4cb3408a-732e-42a8-a798-56f0fd6bca4d');\n",
              "        const dataTable =\n",
              "          await google.colab.kernel.invokeFunction('convertToInteractive',\n",
              "                                                    [key], {});\n",
              "        if (!dataTable) return;\n",
              "\n",
              "        const docLinkHtml = 'Like what you see? Visit the ' +\n",
              "          '<a target=\"_blank\" href=https://colab.research.google.com/notebooks/data_table.ipynb>data table notebook</a>'\n",
              "          + ' to learn more about interactive tables.';\n",
              "        element.innerHTML = '';\n",
              "        dataTable['output_type'] = 'display_data';\n",
              "        await google.colab.output.renderOutput(dataTable, element);\n",
              "        const docLink = document.createElement('div');\n",
              "        docLink.innerHTML = docLinkHtml;\n",
              "        element.appendChild(docLink);\n",
              "      }\n",
              "    </script>\n",
              "  </div>\n",
              "\n",
              "\n",
              "<div id=\"df-f47bc17b-8c7c-4f40-9118-2683344965af\">\n",
              "  <button class=\"colab-df-quickchart\" onclick=\"quickchart('df-f47bc17b-8c7c-4f40-9118-2683344965af')\"\n",
              "            title=\"Suggest charts\"\n",
              "            style=\"display:none;\">\n",
              "\n",
              "<svg xmlns=\"http://www.w3.org/2000/svg\" height=\"24px\"viewBox=\"0 0 24 24\"\n",
              "     width=\"24px\">\n",
              "    <g>\n",
              "        <path d=\"M19 3H5c-1.1 0-2 .9-2 2v14c0 1.1.9 2 2 2h14c1.1 0 2-.9 2-2V5c0-1.1-.9-2-2-2zM9 17H7v-7h2v7zm4 0h-2V7h2v10zm4 0h-2v-4h2v4z\"/>\n",
              "    </g>\n",
              "</svg>\n",
              "  </button>\n",
              "\n",
              "<style>\n",
              "  .colab-df-quickchart {\n",
              "      --bg-color: #E8F0FE;\n",
              "      --fill-color: #1967D2;\n",
              "      --hover-bg-color: #E2EBFA;\n",
              "      --hover-fill-color: #174EA6;\n",
              "      --disabled-fill-color: #AAA;\n",
              "      --disabled-bg-color: #DDD;\n",
              "  }\n",
              "\n",
              "  [theme=dark] .colab-df-quickchart {\n",
              "      --bg-color: #3B4455;\n",
              "      --fill-color: #D2E3FC;\n",
              "      --hover-bg-color: #434B5C;\n",
              "      --hover-fill-color: #FFFFFF;\n",
              "      --disabled-bg-color: #3B4455;\n",
              "      --disabled-fill-color: #666;\n",
              "  }\n",
              "\n",
              "  .colab-df-quickchart {\n",
              "    background-color: var(--bg-color);\n",
              "    border: none;\n",
              "    border-radius: 50%;\n",
              "    cursor: pointer;\n",
              "    display: none;\n",
              "    fill: var(--fill-color);\n",
              "    height: 32px;\n",
              "    padding: 0;\n",
              "    width: 32px;\n",
              "  }\n",
              "\n",
              "  .colab-df-quickchart:hover {\n",
              "    background-color: var(--hover-bg-color);\n",
              "    box-shadow: 0 1px 2px rgba(60, 64, 67, 0.3), 0 1px 3px 1px rgba(60, 64, 67, 0.15);\n",
              "    fill: var(--button-hover-fill-color);\n",
              "  }\n",
              "\n",
              "  .colab-df-quickchart-complete:disabled,\n",
              "  .colab-df-quickchart-complete:disabled:hover {\n",
              "    background-color: var(--disabled-bg-color);\n",
              "    fill: var(--disabled-fill-color);\n",
              "    box-shadow: none;\n",
              "  }\n",
              "\n",
              "  .colab-df-spinner {\n",
              "    border: 2px solid var(--fill-color);\n",
              "    border-color: transparent;\n",
              "    border-bottom-color: var(--fill-color);\n",
              "    animation:\n",
              "      spin 1s steps(1) infinite;\n",
              "  }\n",
              "\n",
              "  @keyframes spin {\n",
              "    0% {\n",
              "      border-color: transparent;\n",
              "      border-bottom-color: var(--fill-color);\n",
              "      border-left-color: var(--fill-color);\n",
              "    }\n",
              "    20% {\n",
              "      border-color: transparent;\n",
              "      border-left-color: var(--fill-color);\n",
              "      border-top-color: var(--fill-color);\n",
              "    }\n",
              "    30% {\n",
              "      border-color: transparent;\n",
              "      border-left-color: var(--fill-color);\n",
              "      border-top-color: var(--fill-color);\n",
              "      border-right-color: var(--fill-color);\n",
              "    }\n",
              "    40% {\n",
              "      border-color: transparent;\n",
              "      border-right-color: var(--fill-color);\n",
              "      border-top-color: var(--fill-color);\n",
              "    }\n",
              "    60% {\n",
              "      border-color: transparent;\n",
              "      border-right-color: var(--fill-color);\n",
              "    }\n",
              "    80% {\n",
              "      border-color: transparent;\n",
              "      border-right-color: var(--fill-color);\n",
              "      border-bottom-color: var(--fill-color);\n",
              "    }\n",
              "    90% {\n",
              "      border-color: transparent;\n",
              "      border-bottom-color: var(--fill-color);\n",
              "    }\n",
              "  }\n",
              "</style>\n",
              "\n",
              "  <script>\n",
              "    async function quickchart(key) {\n",
              "      const quickchartButtonEl =\n",
              "        document.querySelector('#' + key + ' button');\n",
              "      quickchartButtonEl.disabled = true;  // To prevent multiple clicks.\n",
              "      quickchartButtonEl.classList.add('colab-df-spinner');\n",
              "      try {\n",
              "        const charts = await google.colab.kernel.invokeFunction(\n",
              "            'suggestCharts', [key], {});\n",
              "      } catch (error) {\n",
              "        console.error('Error during call to suggestCharts:', error);\n",
              "      }\n",
              "      quickchartButtonEl.classList.remove('colab-df-spinner');\n",
              "      quickchartButtonEl.classList.add('colab-df-quickchart-complete');\n",
              "    }\n",
              "    (() => {\n",
              "      let quickchartButtonEl =\n",
              "        document.querySelector('#df-f47bc17b-8c7c-4f40-9118-2683344965af button');\n",
              "      quickchartButtonEl.style.display =\n",
              "        google.colab.kernel.accessAllowed ? 'block' : 'none';\n",
              "    })();\n",
              "  </script>\n",
              "</div>\n",
              "    </div>\n",
              "  </div>\n"
            ],
            "application/vnd.google.colaboratory.intrinsic+json": {
              "type": "dataframe",
              "variable_name": "log_data",
              "summary": "{\n  \"name\": \"log_data\",\n  \"rows\": 20,\n  \"fields\": [\n    {\n      \"column\": \"epoch\",\n      \"properties\": {\n        \"dtype\": \"number\",\n        \"std\": 5,\n        \"min\": 0,\n        \"max\": 19,\n        \"num_unique_values\": 20,\n        \"samples\": [\n          0,\n          17,\n          15\n        ],\n        \"semantic_type\": \"\",\n        \"description\": \"\"\n      }\n    },\n    {\n      \"column\": \"accuracy\",\n      \"properties\": {\n        \"dtype\": \"number\",\n        \"std\": 0.018840025389070213,\n        \"min\": 0.9004814624786377,\n        \"max\": 0.9834629893302916,\n        \"num_unique_values\": 20,\n        \"samples\": [\n          0.9004814624786377,\n          0.9809444546699524,\n          0.98114812374115\n        ],\n        \"semantic_type\": \"\",\n        \"description\": \"\"\n      }\n    },\n    {\n      \"column\": \"loss\",\n      \"properties\": {\n        \"dtype\": \"number\",\n        \"std\": 0.061515296881714955,\n        \"min\": 0.0571151375770568,\n        \"max\": 0.3264530897140503,\n        \"num_unique_values\": 20,\n        \"samples\": [\n          0.3264530897140503,\n          0.0622985437512397,\n          0.0633613541722297\n        ],\n        \"semantic_type\": \"\",\n        \"description\": \"\"\n      }\n    },\n    {\n      \"column\": \"val_accuracy\",\n      \"properties\": {\n        \"dtype\": \"number\",\n        \"std\": 0.0034200988790060107,\n        \"min\": 0.971666693687439,\n        \"max\": 0.984333336353302,\n        \"num_unique_values\": 18,\n        \"samples\": [\n          0.971666693687439,\n          0.9738333225250244,\n          0.9801666736602784\n        ],\n        \"semantic_type\": \"\",\n        \"description\": \"\"\n      }\n    },\n    {\n      \"column\": \"val_loss\",\n      \"properties\": {\n        \"dtype\": \"number\",\n        \"std\": 0.009146750446028435,\n        \"min\": 0.0648798793554306,\n        \"max\": 0.1049948930740356,\n        \"num_unique_values\": 20,\n        \"samples\": [\n          0.1049948930740356,\n          0.070562720298767,\n          0.0699226856231689\n        ],\n        \"semantic_type\": \"\",\n        \"description\": \"\"\n      }\n    }\n  ]\n}"
            }
          },
          "metadata": {},
          "execution_count": 42
        }
      ]
    },
    {
      "cell_type": "markdown",
      "source": [
        "Vediamo che sia in fase di train che di test abbiamo un andamento simile dell'errore e con valori molto più vicini rispetto a prima. Questo indica che l'overfitting è scomparso."
      ],
      "metadata": {
        "id": "qJPBj8gH4Da-"
      }
    },
    {
      "cell_type": "code",
      "source": [
        "loss = log_data['loss']\n",
        "val_loss = log_data['val_loss']\n",
        "\n",
        "epochs = log_data['epoch']\n",
        "\n",
        "plt.plot(epochs, loss, 'y', label='Train')\n",
        "plt.plot(epochs, val_loss, 'r', label='Test')\n",
        "plt.title('Errore')\n",
        "plt.xlabel('Epoche')\n",
        "plt.ylabel('Errore')\n",
        "plt.legend()\n",
        "plt.show()\n",
        "\n",
        "accuracy = log_data['accuracy']\n",
        "val_accuracy = log_data['val_accuracy']\n",
        "\n",
        "\n",
        "plt.plot(epochs, accuracy, 'y', label='Train')\n",
        "plt.plot(epochs, val_accuracy, 'r', label='Test')\n",
        "plt.title('Accuracy')\n",
        "plt.xlabel('Epoche')\n",
        "plt.ylabel('Accuracy')\n",
        "plt.legend()\n",
        "plt.show()"
      ],
      "metadata": {
        "colab": {
          "base_uri": "https://localhost:8080/",
          "height": 927
        },
        "id": "mMgA1Bws0N3r",
        "outputId": "73187c6c-0af0-4662-b6c4-ae75c8103b1b"
      },
      "execution_count": 43,
      "outputs": [
        {
          "output_type": "display_data",
          "data": {
            "text/plain": [
              "<Figure size 640x480 with 1 Axes>"
            ],
            "image/png": "[encoded data removed]"
          },
          "metadata": {}
        },
        {
          "output_type": "display_data",
          "data": {
            "text/plain": [
              "<Figure size 640x480 with 1 Axes>"
            ],
            "image/png": "[encoded data removed]"
          },
          "metadata": {}
        }
      ]
    },
    {
      "cell_type": "code",
      "source": [
        "test_loss, test_accuracy = model_dropout.evaluate(X_test, y_test)\n",
        "\n",
        "print('Con Dropout, accuratezza nei dati di test = ', test_accuracy * 100, '%')\n",
        "print('Senza Dropout, accuratezza nei dati di test = ', no_dropout_test_accuracy * 100, '%')"
      ],
      "metadata": {
        "colab": {
          "base_uri": "https://localhost:8080/"
        },
        "id": "-7nC7yuc0W3X",
        "outputId": "b0a3f03a-3997-493e-d331-2b7738b8cc8a"
      },
      "execution_count": 45,
      "outputs": [
        {
          "output_type": "stream",
          "name": "stdout",
          "text": [
            "313/313 [==============================] - 2s 7ms/step - loss: 0.0921 - accuracy: 0.9792\n",
            "Con Dropout, accuratezza nei dati di test =  97.9200005531311 %\n",
            "Senza Dropout, accuratezza nei dati di test =  97.57000207901001 %\n"
          ]
        }
      ]
    },
    {
      "cell_type": "code",
      "source": [],
      "metadata": {
        "id": "2dR-uzeZvbn1"
      },
      "execution_count": null,
      "outputs": []
    }
  ]
}