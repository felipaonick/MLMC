{
 "cells": [
  {
   "cell_type": "markdown",
   "metadata": {},
   "source": [
    "Implementazione di una ANN per la classificazione\n",
    "dei commenti raccolti nel dataset \"IMDB\""
   ]
  },
  {
   "cell_type": "code",
   "execution_count": 1,
   "metadata": {
    "pycharm": {
     "name": "#%%\n"
    }
   },
   "outputs": [],
   "source": [
    "# importazione librerie necessarie\n",
    "\n",
    "import matplotlib.pyplot as plt\n",
    "import numpy as np\n",
    "from tensorflow.keras import layers\n",
    "import tensorflow as tf"
   ]
  },
  {
   "cell_type": "code",
   "execution_count": 2,
   "metadata": {
    "pycharm": {
     "name": "#%%\n"
    }
   },
   "outputs": [
    {
     "name": "stderr",
     "output_type": "stream",
     "text": [
      "<__array_function__ internals>:5: VisibleDeprecationWarning: Creating an ndarray from ragged nested sequences (which is a list-or-tuple of lists-or-tuples-or ndarrays with different lengths or shapes) is deprecated. If you meant to do this, you must specify 'dtype=object' when creating the ndarray\n",
      "c:\\cloud\\gitlab\\tradeai_v2\\venv\\lib\\site-packages\\tensorflow\\python\\keras\\datasets\\imdb.py:155: VisibleDeprecationWarning: Creating an ndarray from ragged nested sequences (which is a list-or-tuple of lists-or-tuples-or ndarrays with different lengths or shapes) is deprecated. If you meant to do this, you must specify 'dtype=object' when creating the ndarray\n",
      "  x_train, y_train = np.array(xs[:idx]), np.array(labels[:idx])\n",
      "c:\\cloud\\gitlab\\tradeai_v2\\venv\\lib\\site-packages\\tensorflow\\python\\keras\\datasets\\imdb.py:156: VisibleDeprecationWarning: Creating an ndarray from ragged nested sequences (which is a list-or-tuple of lists-or-tuples-or ndarrays with different lengths or shapes) is deprecated. If you meant to do this, you must specify 'dtype=object' when creating the ndarray\n",
      "  x_test, y_test = np.array(xs[idx:]), np.array(labels[idx:])\n"
     ]
    }
   ],
   "source": [
    "# caricamento dataset\n",
    "(training_data, training_targets), (testing_data, testing_targets) = tf.keras.datasets.imdb.load_data(num_words=10000)"
   ]
  },
  {
   "cell_type": "code",
   "execution_count": 3,
   "metadata": {
    "pycharm": {
     "name": "#%%\n"
    }
   },
   "outputs": [],
   "source": [
    "# creazione di un unico dataset di input e di output\n",
    "# per comodità di preprocessing dei dati\n",
    "data = np.concatenate((training_data, testing_data), axis=0)\n",
    "targets = np.concatenate((training_targets, testing_targets), axis=0)"
   ]
  },
  {
   "cell_type": "code",
   "execution_count": 4,
   "metadata": {
    "pycharm": {
     "name": "#%%\n"
    }
   },
   "outputs": [
    {
     "name": "stdout",
     "output_type": "stream",
     "text": [
      "Classi disponibili: [0 1]\n",
      "Numero di parole uniche: 9998\n",
      "\n",
      "Lunghezza media di un commento: 234.75892\n",
      "Deviazione standard sulla lunghezza media: 173\n",
      "Lunghezza massima recensione 2494\n"
     ]
    }
   ],
   "source": [
    "# visualizzazione statistiche sui dati\n",
    "print(\"Classi disponibili:\", np.unique(targets))\n",
    "print(\"Numero di parole uniche:\", len(np.unique(np.hstack(data))))\n",
    "print('')\n",
    "length = [len(i) for i in data]\n",
    "print(\"Lunghezza media di un commento:\", np.mean(length))\n",
    "print(\"Deviazione standard sulla lunghezza media:\", round(np.std(length)))\n",
    "print(\"Lunghezza massima recensione\", np.max(length))"
   ]
  },
  {
   "cell_type": "code",
   "execution_count": 5,
   "metadata": {
    "pycharm": {
     "name": "#%%\n"
    }
   },
   "outputs": [
    {
     "name": "stdout",
     "output_type": "stream",
     "text": [
      "--- primo esempio ---\n",
      "Label: 1\n",
      "data: [1, 14, 22, 16, 43, 530, 973, 1622, 1385, 65, 458, 4468, 66, 3941, 4, 173, 36, 256, 5, 25, 100, 43, 838, 112, 50, 670, 2, 9, 35, 480, 284, 5, 150, 4, 172, 112, 167, 2, 336, 385, 39, 4, 172, 4536, 1111, 17, 546, 38, 13, 447, 4, 192, 50, 16, 6, 147, 2025, 19, 14, 22, 4, 1920, 4613, 469, 4, 22, 71, 87, 12, 16, 43, 530, 38, 76, 15, 13, 1247, 4, 22, 17, 515, 17, 12, 16, 626, 18, 2, 5, 62, 386, 12, 8, 316, 8, 106, 5, 4, 2223, 5244, 16, 480, 66, 3785, 33, 4, 130, 12, 16, 38, 619, 5, 25, 124, 51, 36, 135, 48, 25, 1415, 33, 6, 22, 12, 215, 28, 77, 52, 5, 14, 407, 16, 82, 2, 8, 4, 107, 117, 5952, 15, 256, 4, 2, 7, 3766, 5, 723, 36, 71, 43, 530, 476, 26, 400, 317, 46, 7, 4, 2, 1029, 13, 104, 88, 4, 381, 15, 297, 98, 32, 2071, 56, 26, 141, 6, 194, 7486, 18, 4, 226, 22, 21, 134, 476, 26, 480, 5, 144, 30, 5535, 18, 51, 36, 28, 224, 92, 25, 104, 4, 226, 65, 16, 38, 1334, 88, 12, 16, 283, 5, 16, 4472, 113, 103, 32, 15, 16, 5345, 19, 178, 32]\n"
     ]
    }
   ],
   "source": [
    "# visualizzazione del primo esempio nel dataset\n",
    "print('--- primo esempio ---')\n",
    "print(\"Label:\", targets[0])\n",
    "print(\"data:\", data[0])"
   ]
  },
  {
   "cell_type": "code",
   "execution_count": 6,
   "metadata": {
    "pycharm": {
     "name": "#%%\n"
    }
   },
   "outputs": [
    {
     "name": "stdout",
     "output_type": "stream",
     "text": [
      "# this film was just brilliant casting location scenery story direction everyone's really suited the part they played and you could just imagine being there robert # is an amazing actor and now the same being director # father came from the same scottish island as myself so i loved the fact there was a real connection with this film the witty remarks throughout the film were great it was just brilliant so much that i bought the film as soon as it was released for # and would recommend it to everyone to watch and the fly fishing was amazing really cried at the end it was so sad and you know what they say if you cry at a film it must have been good and this definitely was also # to the two little boy's that played the # of norman and paul they were just brilliant children are often left out of the # list i think because the stars that play them all grown up are such a big profile for the whole film but these children are amazing and should be praised for what they have done don't you think the whole story was so lovely because it was true and was someone's life after all that was shared with us all\n"
     ]
    }
   ],
   "source": [
    "# costruzione di un \"indice inverso\" sul dataset\n",
    "# per poter risalire al testo originale\n",
    "index = tf.keras.datasets.imdb.get_word_index()\n",
    "reverse_index = dict([(value, key) for (key, value) in index.items()])\n",
    "decoded = \" \".join([reverse_index.get(i - 3, \"#\") for i in data[0]] )\n",
    "print(decoded)"
   ]
  },
  {
   "cell_type": "code",
   "execution_count": 7,
   "metadata": {
    "pycharm": {
     "name": "#%%\n"
    }
   },
   "outputs": [],
   "source": [
    "def vectorize(sequences, dimension=10000):\n",
    "    # creazione di una matrice di zero\n",
    "    # con numero di righe = numero di esempi passati in [sequences]\n",
    "    # e numero di colonne pari a [dimension]\n",
    "    results = np.zeros((len(sequences), dimension))\n",
    "\n",
    "    # nella precedente matrice, ad ogni esempio (= ad ogni riga)\n",
    "    # assegno il valore di 1 ai numeri che sono in una delle posizioni\n",
    "    # presenti nella singola sequenza di posizioni presente in ogni\n",
    "    # esempio\n",
    "    for i, sequence in enumerate(sequences):\n",
    "        results[i, sequence] = 1\n",
    "    return results\n",
    "\n",
    "data = vectorize(data)\n",
    "targets = np.array(targets).astype(\"float32\")"
   ]
  },
  {
   "cell_type": "code",
   "execution_count": 8,
   "metadata": {
    "pycharm": {
     "name": "#%%\n"
    }
   },
   "outputs": [
    {
     "name": "stdout",
     "output_type": "stream",
     "text": [
      "Model: \"sequential\"\n",
      "_________________________________________________________________\n",
      "Layer (type)                 Output Shape              Param #   \n",
      "=================================================================\n",
      "dense (Dense)                (None, 8)                 80008     \n",
      "_________________________________________________________________\n",
      "dense_1 (Dense)              (None, 4)                 36        \n",
      "_________________________________________________________________\n",
      "dense_2 (Dense)              (None, 2)                 10        \n",
      "_________________________________________________________________\n",
      "dense_3 (Dense)              (None, 1)                 3         \n",
      "=================================================================\n",
      "Total params: 80,057\n",
      "Trainable params: 80,057\n",
      "Non-trainable params: 0\n",
      "_________________________________________________________________\n"
     ]
    }
   ],
   "source": [
    "model = tf.keras.models.Sequential()\n",
    "# Input - Layer\n",
    "model.add(layers.Dense(8, activation=\"relu\", input_shape=(10000, )))\n",
    "\n",
    "# Hidden - Layers\n",
    "model.add(layers.Dense(4, activation=\"relu\"))\n",
    "model.add(layers.Dense(2, activation=\"relu\"))\n",
    "#model.add(layers.Dense(2, activation=\"relu\"))\n",
    "\n",
    "# Output- Layer\n",
    "model.add(layers.Dense(1, activation=\"sigmoid\"))\n",
    "\n",
    "# report architettura modello\n",
    "model.summary()"
   ]
  },
  {
   "cell_type": "code",
   "execution_count": 9,
   "metadata": {
    "pycharm": {
     "name": "#%%\n"
    }
   },
   "outputs": [],
   "source": [
    "# compilazione del modello\n",
    "model.compile(\n",
    "    optimizer = \"adam\",\n",
    "    loss = \"binary_crossentropy\",\n",
    "    metrics = [\"accuracy\"]\n",
    ")"
   ]
  },
  {
   "cell_type": "code",
   "execution_count": 10,
   "metadata": {
    "pycharm": {
     "name": "#%%\n"
    }
   },
   "outputs": [],
   "source": [
    "# creazione dataset di addestramento\n",
    "# e di validazione\n",
    "train_x = data[:40000]\n",
    "test_x = data[40000:]\n",
    "\n",
    "train_y = targets[:40000]\n",
    "test_y = targets[40000:]"
   ]
  },
  {
   "cell_type": "code",
   "execution_count": 11,
   "metadata": {
    "pycharm": {
     "name": "#%%\n"
    }
   },
   "outputs": [
    {
     "name": "stdout",
     "output_type": "stream",
     "text": [
      "Epoch 1/10\n",
      "80/80 [==============================] - 4s 22ms/step - loss: 0.5164 - accuracy: 0.8124 - val_loss: 0.3632 - val_accuracy: 0.8821\n",
      "Epoch 2/10\n",
      "80/80 [==============================] - 1s 12ms/step - loss: 0.2892 - accuracy: 0.8989 - val_loss: 0.2693 - val_accuracy: 0.9007\n",
      "Epoch 3/10\n",
      "80/80 [==============================] - 1s 12ms/step - loss: 0.2202 - accuracy: 0.9208 - val_loss: 0.2540 - val_accuracy: 0.9014\n",
      "Epoch 4/10\n",
      "80/80 [==============================] - 1s 12ms/step - loss: 0.1880 - accuracy: 0.9322 - val_loss: 0.2569 - val_accuracy: 0.8997\n",
      "Epoch 5/10\n",
      "80/80 [==============================] - 1s 12ms/step - loss: 0.1680 - accuracy: 0.9396 - val_loss: 0.2671 - val_accuracy: 0.8980\n",
      "Epoch 6/10\n",
      "80/80 [==============================] - 1s 12ms/step - loss: 0.1522 - accuracy: 0.9463 - val_loss: 0.2809 - val_accuracy: 0.8950\n",
      "Epoch 7/10\n",
      "80/80 [==============================] - 1s 14ms/step - loss: 0.1414 - accuracy: 0.9504 - val_loss: 0.2985 - val_accuracy: 0.8939\n",
      "Epoch 8/10\n",
      "80/80 [==============================] - 1s 12ms/step - loss: 0.1306 - accuracy: 0.9550 - val_loss: 0.3172 - val_accuracy: 0.8879\n",
      "Epoch 9/10\n",
      "80/80 [==============================] - 1s 12ms/step - loss: 0.1222 - accuracy: 0.9578 - val_loss: 0.3324 - val_accuracy: 0.8894\n",
      "Epoch 10/10\n",
      "80/80 [==============================] - 1s 12ms/step - loss: 0.1150 - accuracy: 0.9603 - val_loss: 0.3565 - val_accuracy: 0.8840\n"
     ]
    }
   ],
   "source": [
    "# addestramento del modello\n",
    "results = model.fit(\n",
    " train_x, train_y,\n",
    " epochs= 10,\n",
    " batch_size = 500,\n",
    " validation_data = (test_x, test_y)\n",
    ")"
   ]
  },
  {
   "cell_type": "code",
   "execution_count": 12,
   "metadata": {
    "pycharm": {
     "name": "#%%\n"
    }
   },
   "outputs": [
    {
     "data": {
      "image/png": "[encoded data removed]",
      "text/plain": [
       "<Figure size 432x288 with 1 Axes>"
      ]
     },
     "metadata": {
      "needs_background": "light"
     },
     "output_type": "display_data"
    },
    {
     "data": {
      "image/png": "[encoded data removed]",
      "text/plain": [
       "<Figure size 432x288 with 1 Axes>"
      ]
     },
     "metadata": {
      "needs_background": "light"
     },
     "output_type": "display_data"
    }
   ],
   "source": [
    "# grafici dell'andamento dell'addestramento\n",
    "\n",
    "# errore\n",
    "plt.title('Loss')\n",
    "plt.plot(results.history['loss'], label='loss')\n",
    "plt.plot(results.history['val_loss'], label='val. loss')\n",
    "plt.legend()\n",
    "\n",
    "plt.show()\n",
    "\n",
    "# accuratezza modello\n",
    "plt.title('Accuracy')\n",
    "plt.plot(results.history['accuracy'], label='accuracy')\n",
    "plt.plot(results.history['val_accuracy'], label='val. accuracy')\n",
    "plt.legend()\n",
    "\n",
    "plt.show()"
   ]
  },
  {
   "cell_type": "code",
   "execution_count": 13,
   "metadata": {
    "pycharm": {
     "name": "#%%\n"
    }
   },
   "outputs": [
    {
     "name": "stdout",
     "output_type": "stream",
     "text": [
      "risultati sul dataset di validazione:\n",
      "errore medio: 0.3564595878124237\n",
      "accuratezza: 88.40000033378601 %\n"
     ]
    }
   ],
   "source": [
    "print('risultati sul dataset di validazione:')\n",
    "print('errore medio:', results.history['val_loss'][-1])\n",
    "print('accuratezza:', results.history['val_accuracy'][-1] * 100, '%')"
   ]
  },
  {
   "cell_type": "code",
   "execution_count": null,
   "metadata": {},
   "outputs": [],
   "source": []
  }
 ],
 "metadata": {
  "kernelspec": {
   "display_name": "Python 3",
   "language": "python",
   "name": "python3"
  },
  "language_info": {
   "codemirror_mode": {
    "name": "ipython",
    "version": 3
   },
   "file_extension": ".py",
   "mimetype": "text/x-python",
   "name": "python",
   "nbconvert_exporter": "python",
   "pygments_lexer": "ipython3",
   "version": "3.8.8"
  }
 },
 "nbformat": 4,
 "nbformat_minor": 1
}
