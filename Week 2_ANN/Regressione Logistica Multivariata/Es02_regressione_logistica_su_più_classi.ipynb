{
 "cells": [
  {
   "cell_type": "markdown",
   "metadata": {
    "pycharm": {
     "name": "#%% md\n"
    }
   },
   "source": [
    "Utilizziamo il modello di regressione logistica disponibile nella\n",
    "libreria Sci-Kit Learn per implementare velocemente un modello\n",
    "di regressione logistica capace di lavorare su più classi"
   ]
  },
  {
   "cell_type": "code",
   "execution_count": 1,
   "metadata": {
    "pycharm": {
     "name": "#%%\n"
    }
   },
   "outputs": [],
   "source": [
    "# Import librerie necessarie\n",
    "\n",
    "import matplotlib.pyplot as plt\n",
    "from sklearn import datasets\n",
    "from sklearn import linear_model\n",
    "from sklearn import metrics\n",
    "from sklearn import model_selection"
   ]
  },
  {
   "cell_type": "code",
   "execution_count": 2,
   "metadata": {
    "pycharm": {
     "name": "#%%\n"
    }
   },
   "outputs": [
    {
     "name": "stdout",
     "output_type": "stream",
     "text": [
      "Struttura del dataset:  ['DESCR', 'data', 'feature_names', 'frame', 'images', 'target', 'target_names']\n",
      "Dimensione dataset:  (1797, 64)\n",
      "Il dataset contiene la rappresentazione in pixel delle immagini, \n",
      " [[ 0.  0.  5. ...  0.  0.  0.]\n",
      " [ 0.  0.  0. ... 10.  0.  0.]\n",
      " [ 0.  0.  0. ... 16.  9.  0.]\n",
      " ...\n",
      " [ 0.  0.  1. ...  6.  0.  0.]\n",
      " [ 0.  0.  2. ... 12.  0.  0.]\n",
      " [ 0.  0. 10. ... 12.  1.  0.]]\n"
     ]
    }
   ],
   "source": [
    "# caricamento dataset sfruttando il dataset \"digits\" di SciKit-Learn\n",
    "\n",
    "digits_df = datasets.load_digits()\n",
    "print('Struttura del dataset: ', dir(digits_df))\n",
    "print('Dimensione dataset: ', digits_df.data.shape)\n",
    "print('Il dataset contiene la rappresentazione in pixel delle immagini, \\n', digits_df.data)"
   ]
  },
  {
   "cell_type": "code",
   "execution_count": 3,
   "metadata": {
    "pycharm": {
     "name": "#%%\n"
    }
   },
   "outputs": [
    {
     "data": {
      "text/plain": "<Figure size 1080x432 with 5 Axes>",
      "image/png": "[encoded data removed]"
     },
     "metadata": {
      "needs_background": "light"
     },
     "output_type": "display_data"
    }
   ],
   "source": [
    "# data visualization\n",
    "\n",
    "# usiamo subplot per creare più grafici in un'unica\n",
    "# immagine e rappresentiamo i numeri da 0 a 4\n",
    "\n",
    "rows = 1\n",
    "columns = 5\n",
    "fig, ax = plt.subplots(rows, columns, figsize=(15, 6))\n",
    "\n",
    "plt.gray()\n",
    "for i in range(columns):\n",
    "    ax[i].matshow(digits_df.images[i])\n",
    "    ax[i].set_title('Label: %s\\n' % digits_df.target[i])\n",
    "\n",
    "plt.show()"
   ]
  },
  {
   "cell_type": "code",
   "execution_count": 4,
   "metadata": {
    "pycharm": {
     "name": "#%%\n"
    }
   },
   "outputs": [],
   "source": [
    "# creazione del dataset di esempi X e del vettore di etichette y\n",
    "\n",
    "X = digits_df.data / 16\n",
    "y = digits_df.target"
   ]
  },
  {
   "cell_type": "code",
   "execution_count": 5,
   "metadata": {
    "pycharm": {
     "name": "#%%\n"
    }
   },
   "outputs": [
    {
     "name": "stdout",
     "output_type": "stream",
     "text": [
      "Dimensioni dei dataset:\n",
      "X_train =  (1437, 64)\n",
      "X_test  =  (360, 64)\n",
      "y_train =  (1437,)\n",
      "y_train =  (360,)\n"
     ]
    }
   ],
   "source": [
    "# suddivisione in dataset di addestramento e di test\n",
    "\n",
    "X_train, X_test, y_train, y_test = model_selection.train_test_split(X, y, test_size=0.2, random_state=1)\n",
    "\n",
    "print('Dimensioni dei dataset:')\n",
    "print('X_train = ', X_train.shape)\n",
    "print('X_test  = ', X_test.shape)\n",
    "print('y_train = ', y_train.shape)\n",
    "print('y_train = ', y_test.shape)"
   ]
  },
  {
   "cell_type": "code",
   "execution_count": 6,
   "metadata": {
    "pycharm": {
     "name": "#%%\n"
    }
   },
   "outputs": [
    {
     "data": {
      "text/plain": "LogisticRegression(max_iter=15000)"
     },
     "execution_count": 6,
     "metadata": {},
     "output_type": "execute_result"
    }
   ],
   "source": [
    "# modello di regressione logistica\n",
    "\n",
    "lm = linear_model.LogisticRegression(max_iter=15000)\n",
    "lm.fit(X_train, y_train)"
   ]
  },
  {
   "cell_type": "code",
   "execution_count": 7,
   "metadata": {
    "pycharm": {
     "name": "#%%\n"
    }
   },
   "outputs": [
    {
     "name": "stdout",
     "output_type": "stream",
     "text": [
      "Valore predetto : [5]\n",
      "Il valore dal dataset di test è 5\n"
     ]
    }
   ],
   "source": [
    "# testing del modello\n",
    "\n",
    "id = 342\n",
    "\n",
    "print('Valore predetto :', lm.predict([X_test[id]]))\n",
    "\n",
    "print('Il valore dal dataset di test è %s' % (y_test[id]))"
   ]
  },
  {
   "cell_type": "code",
   "execution_count": 8,
   "metadata": {
    "pycharm": {
     "name": "#%%\n"
    }
   },
   "outputs": [
    {
     "data": {
      "text/plain": "0.9805555555555555"
     },
     "execution_count": 8,
     "metadata": {},
     "output_type": "execute_result"
    }
   ],
   "source": [
    "# valutazione del modello\n",
    "\n",
    "lm.score(X_test, y_test)"
   ]
  },
  {
   "cell_type": "code",
   "execution_count": 9,
   "metadata": {
    "pycharm": {
     "name": "#%%\n"
    }
   },
   "outputs": [
    {
     "name": "stderr",
     "output_type": "stream",
     "text": [
      "C:\\Cloud\\GitLab\\FH_formazioneinterna\\venv_37\\lib\\site-packages\\sklearn\\utils\\deprecation.py:87: FutureWarning: Function plot_confusion_matrix is deprecated; Function `plot_confusion_matrix` is deprecated in 1.0 and will be removed in 1.2. Use one of the class methods: ConfusionMatrixDisplay.from_predictions or ConfusionMatrixDisplay.from_estimator.\n",
      "  warnings.warn(msg, category=FutureWarning)\n"
     ]
    },
    {
     "data": {
      "text/plain": "array([[42,  0,  0,  0,  1,  0,  0,  0,  0,  0],\n       [ 0, 34,  0,  0,  0,  0,  0,  0,  0,  1],\n       [ 0,  0, 36,  0,  0,  0,  0,  0,  0,  0],\n       [ 0,  0,  0, 40,  0,  1,  0,  0,  0,  0],\n       [ 0,  0,  0,  0, 38,  0,  0,  0,  0,  0],\n       [ 0,  0,  0,  0,  0, 30,  0,  0,  0,  0],\n       [ 0,  0,  0,  0,  0,  0, 37,  0,  0,  0],\n       [ 0,  0,  0,  0,  0,  0,  0, 36,  0,  1],\n       [ 0,  0,  0,  0,  0,  2,  0,  0, 27,  0],\n       [ 0,  0,  0,  0,  0,  1,  0,  0,  0, 33]], dtype=int64)"
     },
     "execution_count": 9,
     "metadata": {},
     "output_type": "execute_result"
    },
    {
     "data": {
      "text/plain": "<Figure size 720x432 with 2 Axes>",
      "image/png": "[encoded data removed]"
     },
     "metadata": {
      "needs_background": "light"
     },
     "output_type": "display_data"
    }
   ],
   "source": [
    "# matrice di confusione\n",
    "\n",
    "fig, ax = plt.subplots(figsize=(10, 6))\n",
    "ax.set_title('Confusion Matrx')\n",
    "\n",
    "disp = metrics.plot_confusion_matrix(\n",
    "    lm, X_test, y_test, display_labels=digits_df.target_names, ax=ax)\n",
    "disp.confusion_matrix"
   ]
  },
  {
   "cell_type": "code",
   "execution_count": 9,
   "metadata": {},
   "outputs": [],
   "source": []
  }
 ],
 "metadata": {
  "kernelspec": {
   "display_name": "Python 3",
   "language": "python",
   "name": "python3"
  },
  "language_info": {
   "codemirror_mode": {
    "name": "ipython",
    "version": 3
   },
   "file_extension": ".py",
   "mimetype": "text/x-python",
   "name": "python",
   "nbconvert_exporter": "python",
   "pygments_lexer": "ipython3",
   "version": "3.8.8"
  }
 },
 "nbformat": 4,
 "nbformat_minor": 1
}