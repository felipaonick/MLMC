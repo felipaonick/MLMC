{
 "cells": [
  {
   "cell_type": "markdown",
   "id": "e16c6670-89ea-47de-aa73-b805b3cfb5f2",
   "metadata": {},
   "source": [
    "# Feature Extractor\n",
    "\n",
    "Un feature extractor è uno strumento fondamentale nel deep learning. Invece di utilizzare un modello neurale per generare previsioni finali (come in una rete neurale normale), un feature extractor si concentra sull'estrazione delle **rappresentazioni intermedie** (dette anche \"feature maps\", ovvero \"mappe di feature\") dai dati.\n",
    "\n",
    "Queste rappresentazioni sono utili in molteplici contesti, tra cui:\n",
    "- Trasferimento di apprendimento (transfer learning).\n",
    "- Analisi delle caratteristiche dei dati.\n",
    "- Preprocessamento per modelli secondari.\n",
    "\n",
    "## Differenze rispetto a una rete neurale normale\n",
    "- **Rete neurale normale**: prende in input dati grezzi e restituisce una previsione finale.\n",
    "- **Feature extractor**: restituisce i valori delle attivazioni intermedie di specifici layer della rete.\n",
    "\n",
    "In questo notebook, creeremo un feature extractor utilizzando una rete pre-addestrata (ResNet50V2) addestrata su ImageNet.\n"
   ]
  },
  {
   "cell_type": "code",
   "execution_count": 1,
   "id": "5e56d328-88d0-4d3c-9f04-b73d32b7f295",
   "metadata": {},
   "outputs": [
    {
     "name": "stdout",
     "output_type": "stream",
     "text": [
      "Layer selezionati: [<Conv2D name=conv2_block1_1_conv, built=True>, <Conv2D name=conv5_block3_3_conv, built=True>]\n"
     ]
    }
   ],
   "source": [
    "import tensorflow as tf\n",
    "from tensorflow import keras\n",
    "import numpy as np\n",
    "\n",
    "# Step 1: Caricare un modello pre-addestrato\n",
    "resnet_model = keras.applications.ResNet50V2(weights=\"imagenet\", include_top=False)\n",
    "\n",
    "# Step 2: Identificare i layer target\n",
    "layer_names = [\"conv2_block1_1_conv\", \"conv5_block3_3_conv\"]\n",
    "layers = [resnet_model.get_layer(name=layer_name) for layer_name in layer_names]\n",
    "print(\"Layer selezionati:\", layers)\n",
    "\n",
    "# Step 3: Creare il Feature Extractor\n",
    "feature_extractor = keras.Model(\n",
    "    inputs=resnet_model.inputs,\n",
    "    outputs=[layer.output for layer in layers]\n",
    ")\n"
   ]
  },
  {
   "cell_type": "markdown",
   "id": "38020c8d-4494-4ea9-a7fb-211eeecd0093",
   "metadata": {},
   "source": [
    "## Utilizzo del Feature Extractor\n",
    "\n",
    "Ora utilizzeremo un'immagine di esempio per estrarre le features e confrontare le attivazioni intermedie con l'output di una rete neurale completa.\n"
   ]
  },
  {
   "cell_type": "code",
   "execution_count": 2,
   "id": "7c82f3e8-a90d-4b90-91e1-58ad6073016c",
   "metadata": {},
   "outputs": [
    {
     "name": "stdout",
     "output_type": "stream",
     "text": [
      "\n",
      "Dimensioni delle attivazioni per ciascun layer selezionato:\n",
      "Layer conv2_block1_1_conv: (1, 56, 56, 64)\n",
      "Layer conv5_block3_3_conv: (1, 7, 7, 2048)\n"
     ]
    },
    {
     "name": "stderr",
     "output_type": "stream",
     "text": [
      "/opt/anaconda3/envs/ml-masterclass/lib/python3.10/site-packages/keras/src/models/functional.py:237: UserWarning: The structure of `inputs` doesn't match the expected structure.\n",
      "Expected: ['keras_tensor']\n",
      "Received: inputs=Tensor(shape=(1, 224, 224, 3))\n",
      "  warnings.warn(msg)\n"
     ]
    }
   ],
   "source": [
    "from tensorflow.keras.applications.resnet_v2 import preprocess_input\n",
    "from tensorflow.keras.preprocessing.image import load_img, img_to_array\n",
    "\n",
    "# Carichiamo un'immagine di esempio e la preprocessiamo\n",
    "\n",
    "img_path = \"data/elephant.jpg\"\n",
    "img = load_img(img_path, target_size=(224, 224))\n",
    "input_image = img_to_array(img)\n",
    "input_image = np.expand_dims(input_image, axis=0)\n",
    "input_image = preprocess_input(input_image)\n",
    "\n",
    "# Estraiamo le features\n",
    "features = feature_extractor(input_image)\n",
    "\n",
    "# Visualizziamo le dimensioni delle attivazioni estratte\n",
    "print(\"\\nDimensioni delle attivazioni per ciascun layer selezionato:\")\n",
    "for i, feature_map in enumerate(features):\n",
    "    print(f\"Layer {layer_names[i]}: {feature_map.shape}\")\n"
   ]
  },
  {
   "cell_type": "markdown",
   "id": "6e888eca-7309-4e0a-ba18-f87230435d50",
   "metadata": {},
   "source": [
    "## Confronto con una rete neurale normale\n",
    "\n",
    "Utilizziamo lo stesso input per ottenere una predizione finale da ResNet50V2 con il top incluso.\n"
   ]
  },
  {
   "cell_type": "code",
   "execution_count": 3,
   "id": "5a891f1c-bb50-44d4-8e3c-888db2058d56",
   "metadata": {},
   "outputs": [
    {
     "name": "stdout",
     "output_type": "stream",
     "text": [
      "\u001b[1m1/1\u001b[0m \u001b[32m━━━━━━━━━━━━━━━━━━━━\u001b[0m\u001b[37m\u001b[0m \u001b[1m1s\u001b[0m 653ms/step\n",
      "\n",
      "Shape dell'output finale del modello completo: (1, 1000)\n",
      "\n",
      "Predizioni finali:\n",
      "African_elephant: 95.99%\n",
      "tusker: 3.94%\n",
      "Indian_elephant: 0.06%\n"
     ]
    }
   ],
   "source": [
    "# Modello completo con la testa inclusa\n",
    "full_model = keras.applications.ResNet50V2(weights=\"imagenet\")\n",
    "preds = full_model.predict(input_image)\n",
    "\n",
    "# Visualizziamo la shape dell'output finale\n",
    "print(\"\\nShape dell'output finale del modello completo:\", preds.shape)\n",
    "\n",
    "# Decodifica delle predizioni finali\n",
    "decoded_preds = keras.applications.resnet_v2.decode_predictions(preds, top=3)\n",
    "print(\"\\nPredizioni finali:\")\n",
    "for pred in decoded_preds[0]:\n",
    "    print(f\"{pred[1]}: {pred[2]*100:.2f}%\")\n"
   ]
  },
  {
   "cell_type": "markdown",
   "id": "16b76ca6-0a35-4d76-a1e4-38875aeb7f0b",
   "metadata": {},
   "source": [
    "## Visualizzazione di una Feature Map\n",
    "\n",
    "Le feature maps sono il risultato delle attivazioni intermedie di un modello. In questa sezione, visualizzeremo una feature map in due modi:\n",
    "1. Come un elenco di numeri, per mostrare la rappresentazione grezza delle attivazioni.\n",
    "2. Come un'immagine, per dare un'idea visiva delle caratteristiche che il modello ha estratto.\n"
   ]
  },
  {
   "cell_type": "code",
   "execution_count": 16,
   "id": "119e111e-d722-40a3-92aa-d6d5f52770d9",
   "metadata": {},
   "outputs": [
    {
     "name": "stdout",
     "output_type": "stream",
     "text": [
      "(1, 56, 56, 64)\n",
      "(1, 7, 7, 2048)\n",
      "Feature Map (elenco di numeri):\n",
      "tf.Tensor(\n",
      "[[-0.351275   -0.40123436 -0.39422703 -0.53543395 -0.63984495 -0.63031536\n",
      "  -0.6396464 ]\n",
      " [-0.2797652  -0.19153662 -0.15724318 -0.19980273 -0.42391554 -0.38378772\n",
      "  -0.34241533]\n",
      " [-0.35816547 -0.13714601  0.08698567  0.2507699   0.40171996 -0.35830128\n",
      "  -0.5656327 ]\n",
      " [-0.325508    0.46864396  0.5790491   0.5189287   0.26676202 -0.09043886\n",
      "  -0.6062879 ]\n",
      " [-0.46049613  0.31332663  0.5608061  -0.19905731 -0.1387777  -0.67991984\n",
      "  -0.61180943]\n",
      " [-0.39309463 -0.06483261  0.18829344 -0.49946573 -0.11802851 -0.17118147\n",
      "  -0.18216245]\n",
      " [-0.31503087 -0.30073518 -0.33797598 -0.6363129  -0.6282766  -0.43631607\n",
      "  -0.40842557]], shape=(7, 7), dtype=float32)\n"
     ]
    },
    {
     "data": {
      "image/png": "[encoded data removed]",
      "text/plain": [
       "<Figure size 600x600 with 2 Axes>"
      ]
     },
     "metadata": {},
     "output_type": "display_data"
    }
   ],
   "source": [
    "import matplotlib.pyplot as plt\n",
    "\n",
    "print(features[0].shape)\n",
    "print(features[1].shape)\n",
    "\n",
    "# Selezioniamo una feature map specifica dal primo layer target\n",
    "feature_map = features[1][0, :, :, 200]  # Prima feature map del primo layer\n",
    "\n",
    "# 1. Visualizziamo la feature map come elenco di numeri\n",
    "print(\"Feature Map (elenco di numeri):\")\n",
    "print(feature_map)\n",
    "\n",
    "# 2. Visualizziamo la feature map come immagine\n",
    "plt.figure(figsize=(6, 6))\n",
    "plt.imshow(feature_map, cmap=\"viridis\")  # Usando una colormap per una migliore visualizzazione\n",
    "plt.title(\"Feature Map come Immagine\")\n",
    "plt.colorbar()\n",
    "plt.show()\n"
   ]
  },
  {
   "cell_type": "markdown",
   "id": "df04a6db-3328-4743-b97f-21950abd238a",
   "metadata": {},
   "source": [
    "## Comprendere le differenze \n",
    "\n",
    "Questa immagine illustra la differenza tra l'output di una rete neurale completa e un feature extractor:\n",
    "\n",
    "1. **Rete neurale completa** (prima parte del diagramma, in alto):\n",
    "   - L'immagine di input (ad esempio, un elefante) passa attraverso vari livelli convoluzionali, pool e completamente connessi.\n",
    "   - L'output è una previsione finale sotto forma di probabilità per diverse classi (es.: elefante, leone, ecc.).\n",
    "\n",
    "2. **Feature Extractor** (seconda parte del diagramma, in basso):\n",
    "   - L'immagine passa attraverso gli stessi livelli convoluzionali, ma si interrompe prima dei livelli completamente connessi.\n",
    "   - L'output non è una previsione di classe, bensì le **feature maps** intermedie, che rappresentano le caratteristiche estratte dall'immagine.\n",
    "   - Le feature maps sono matrici che codificano informazioni sulle parti e i pattern rilevanti dell'immagine.\n",
    "\n",
    "<img src=\"assets/feature_extractor.drawio.png\"/>\n"
   ]
  },
  {
   "cell_type": "code",
   "execution_count": null,
   "id": "f427611d-9cf4-4ef7-a7ed-9ed7119e7ace",
   "metadata": {},
   "outputs": [],
   "source": []
  }
 ],
 "metadata": {
  "kernelspec": {
   "display_name": "Python 3 (ipykernel)",
   "language": "python",
   "name": "python3"
  },
  "language_info": {
   "codemirror_mode": {
    "name": "ipython",
    "version": 3
   },
   "file_extension": ".py",
   "mimetype": "text/x-python",
   "name": "python",
   "nbconvert_exporter": "python",
   "pygments_lexer": "ipython3",
   "version": "3.10.16"
  }
 },
 "nbformat": 4,
 "nbformat_minor": 5
}
